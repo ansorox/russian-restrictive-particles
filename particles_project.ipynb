{
 "cells": [
  {
   "cell_type": "markdown",
   "id": "880ac227",
   "metadata": {},
   "source": [
    "# Restrictive scalar particles in Russian"
   ]
  },
  {
   "cell_type": "markdown",
   "id": "0b05e87d",
   "metadata": {},
   "source": [
    "## Table of Contents\n",
    "1. [Research idea](#1.-Research-idea)\n",
    "2. [The plan](#2.-The-plan)\n",
    "3. [Inspecting standalone particles](#3.-Inspecting-standalone-particles) <br>\n",
    "    3.1. [Data collection](#3.1.-Data-collection) <br>\n",
    "    3.2. [Data annotation](#3.2.-Data-annotation) <br>\n",
    "    3.3. [Data analysis](#3.3.-Data-analysis) <br>\n",
    "    3.4. [Interim summary](#3.4.-Interim-summary)\n",
    "4. [Combinations of particles](#4.-Combinations-of-particles) <br>\n",
    "    4.1. [Data collection](#4.1.-Data-collection) <br>\n",
    "    4.2. [Data annotation](#4.2.-Data-annotation) <br>\n",
    "    4.3. [Visualization](#4.3.-Visualization) <br>\n",
    "    4.4. [Summary](#4.4.-Summary-on-particle-combinations)\n",
    "5. [Conclusions](#5.-Conclusions)"
   ]
  },
  {
   "cell_type": "markdown",
   "id": "f4a2c24e",
   "metadata": {},
   "source": [
    "## 1. Research idea\n",
    "\n",
    "*Restrictive scalar particles* are a kind of expressions that are sensitive to focus placement. These particles associate with an element *in focus* (prosodically marked element) and make an utterance implicate that (a) the element they associate with is the lowest element on some contextually-provided scale, (b) the stronger alternatives of the utterance (i. e. containing elements higher on the abovementioned scale) are false.\n",
    "\n",
    "The English language has at least three particles of this kind coexisting within a language: *only*, *merely*, *just*. However, one can notice that their distributional and semantic properties are somewhat different (see table below; acceptability judgements are very preliminary and are based on author's introspection).\n",
    "\n",
    "\n",
    "|   Particle\t|   Example\t|\n",
    "|:---\t|:---\t|\n",
    "|   *only*\t|   *He has only two children.* |\n",
    "|   \t|   *She is only a waitress.* | \n",
    "|   \t|  *Only John came.* |\n",
    "|   \t|  *The program only works with .txt documents.* |\n",
    "|   *merely*\t|   \\* *He has merely two children.* |\n",
    "|   \t|   *She is merely a waitress.* | \n",
    "|   \t|  \\* *Merely John came.* |\n",
    "|   \t|  \\? *The program merely works with .txt documents.* |\n",
    "|   *just*\t|   *He has just two children.* |\n",
    "|   \t|   *She is just a waitress.* | \n",
    "|   \t|  \\? *Just John came.* |\n",
    "|   \t|  \\? *The program just works with .txt documents.* |\n",
    "\n",
    "In Russian, there are several restrictive scalar particles, as well: 'только', 'лишь', 'всего', 'именно'.\n",
    "\n",
    "Within this project I would like to have a look at these four particles and answer the following questions:\n",
    "1. Do they have some preferences with regard to their associate (POS, syntactic position)?\n",
    "2. Some of these particles can combine with each other ('всего лишь', 'всего только', 'только лишь'). What combinations and orders are possible and how frequent these combinations are?\n",
    "3. What preferences (see bullet 1) do combinations of these particles have? Do they inherit the properties of one of its parts or have a completely different distribution?\n"
   ]
  },
  {
   "cell_type": "code",
   "execution_count": null,
   "id": "1df34743",
   "metadata": {},
   "outputs": [],
   "source": []
  },
  {
   "cell_type": "markdown",
   "id": "b922bd22",
   "metadata": {},
   "source": [
    "## 2. The plan\n",
    "\n",
    "1. Inspect standalone particles <br>\n",
    "    1.1. Collect the data for each particle from [the Russian National Corpus](https://ruscorpora.ru/new/), filtering out the examples with homonymous expressions and cases of particle combinations. <br>\n",
    "    1.2. Enrich the data with POS tagging and some syntactic analysis. <br>\n",
    "    1.3. Analyze the compatibility of different particles with associates of different parts of speech and of different syntactic roles. <br>\n",
    "    1.4. Make preliminary conclusions.\n",
    "2. Inspect combinations of particles<br>\n",
    "    2.1. Collect the data<br>\n",
    "    2.2. Analyze the frequencies of combinations<br>\n",
    "    2.3. Enrich the data<br>\n",
    "    2.4. Analyze the compatibility<br>\n",
    "    2.5. Make conclusions\n",
    "3. Sum everything up\n",
    "\n"
   ]
  },
  {
   "cell_type": "markdown",
   "id": "7afba776",
   "metadata": {},
   "source": [
    "## 3. Inspecting standalone particles\n",
    "### 3.1. Data collection"
   ]
  },
  {
   "cell_type": "markdown",
   "id": "42069cac",
   "metadata": {},
   "source": [
    "Let us write a function that works with the RNC and downloads the query results from the specified amount of pages. \n",
    "\n",
    "By default, each result page contains 10 documents, but a document can contain more than one occurence of the particle.\n",
    "We do not want to analyze relative frequencies (this would be, for instance, a ratio of a particle used with numerals to a total number of occurrences) since this would require us to download all of the utterances for each particle, which is too many. Thus, we are going to only take one example from each document and make the number of examples equal for each particle."
   ]
  },
  {
   "cell_type": "code",
   "execution_count": 3,
   "id": "a9dbbcdc",
   "metadata": {},
   "outputs": [],
   "source": [
    "import re\n",
    "import pandas as pd \n",
    "from tqdm import tqdm\n",
    "import requests\n",
    "from bs4 import BeautifulSoup\n",
    "\n",
    "def ruscorpora_extractor(pages_num, url):\n",
    "    \n",
    "    # pretend to be a browser\n",
    "    user_agent = 'Mozilla/5.0 (Windows NT 6.1; Win64; x64)' \n",
    "    examples = []\n",
    "\n",
    "    # collect data from each page\n",
    "    for page in tqdm(range(pages_num)):\n",
    "     \n",
    "        page = requests.get(url+ \"&p=\" + str(page), headers={'User-Agent':user_agent})\n",
    "        soup = BeautifulSoup(page.text, 'html.parser')\n",
    "        \n",
    "        # navigating the page\n",
    "        example_doc = soup.find(\"ol\").find_all('table')\n",
    "        \n",
    "        # from each document take only one example\n",
    "        for doc in example_doc:            \n",
    "            ex = doc.find('li') \n",
    "            \n",
    "            # get rid of the metadata\n",
    "            unwanted = ex.find_all(class_= [\"doc\", \"on\", \"prev\", \"b-kwic-expl\"])\n",
    "            for unw in unwanted: \n",
    "                unw.clear()\n",
    "                \n",
    "            example = ex.get_text().strip()\n",
    "            examples.append(example)\n",
    "            \n",
    "    # write data to a dataframe\n",
    "    output = pd.DataFrame({\"text\": examples})\n",
    "    # data.to_csv(output_file+\".csv\", encoding='utf-8-sig')\n",
    "    return output"
   ]
  },
  {
   "cell_type": "markdown",
   "id": "bce7bb3e",
   "metadata": {},
   "source": [
    "I wanted to use multiple-worded queries with regular expressions. Generating URLs for such queries is somewhat complex for RNC, so I've decided to work with \"ready-to-use\" links. I got these by making relevant queries (see below) with the RNC interface and copying URLs after the results are shown. I included some constraints on a preceding word and the following one to make sure that I get instances of standalone particles, and I get as few irrelevant examples as possible.\n",
    "\n",
    "Here are the queries I used: <br>\n",
    "`lish_url` <br>\n",
    "word1: -(лишь|только|всего|именно) <br>\n",
    "word2: лишь <br>\n",
    "word3: -(лишь|только|всего|именно) \n",
    "\n",
    "`vsego_url`\\* <br>\n",
    "word1: -(лишь|только|всего|именно|прежде), gram1: -comp <br>\n",
    "word2: всего <br>\n",
    "word3: -(лишь|только|всего|именно) \n",
    "\n",
    "`tolko_url`\\** <br>\n",
    "word1: -(вот|пусть|как|лишь|только|всего|именно)<br>\n",
    "word2: только <br>\n",
    "word3: -(лишь|только|всего|именно|что) \n",
    "\n",
    "`imenno_url`\\*** <br>\n",
    "word1: -(а|лишь|только|всего|именно) <br>\n",
    "word2: именно <br>\n",
    "word3: -(лишь|только|всего|именно)\n",
    "\n",
    "---\n",
    "\\* I included the constraint -comp for the first word to filter out examples with idiomatic constructions, such as 'больше всего', 'скорее всего', 'чаще всего' and others. For the same reason a preposition 'прежде' is added to the word1 group. However, I did't find a way to exclude another homonymous analysis, when 'всего' means 'in sum' as in a following sentence: \"*Кроме руководителей компаний, на форум приехали и представители госструктур, всего около 100 человек.*\". Nor did I manage to exclude 'всего' as a form of the word 'весь' meaning 'whole' as in a sentence \"*Тут сидят представители фермеров со всего Львовского района.*\"\n",
    "\n",
    "\\*\\* I added 'вот', 'пусть' and 'как' to the word1 exclusion group to avoid examples, where 'только' is used in some other functions which are not relevant for me now: 'вот только', 'пусть только (попробует)', 'как только'.\n",
    "\n",
    "\\*\\*\\* I added 'а' to the word1 exclusion group to avoid examples, where 'именно' is used to further extend the some part of the utterance as in a sentence: \"*Чаще всего речь идёт о более тонких материях, а именно об общественном сознании и его феноменах.*\". Unfortunally, this has ruled out some relevant examples as well, e.g. \"*На выходе необходим не скелет, нуждающийся в обязательной серьёзной литературной обработке, а именно текст.*\"\n"
   ]
  },
  {
   "cell_type": "markdown",
   "id": "c6728e2d",
   "metadata": {},
   "source": [
    "Here are the links."
   ]
  },
  {
   "cell_type": "code",
   "execution_count": 6,
   "id": "2522eade",
   "metadata": {},
   "outputs": [],
   "source": [
    "lish_url = 'https://processing.ruscorpora.ru/search.xml?env=alpha&api=1.0&mycorp=&mysent=&mysize=&mysentsize=&dpp=10&spp=50&spd=10&mydocsize=&mode=main&lang=ru&sort=i_grtagging&nodia=1&text=lexgramm&parent1=0&level1=0&lex1=-%28%D0%BB%D0%B8%D1%88%D1%8C%7C%D1%82%D0%BE%D0%BB%D1%8C%D0%BA%D0%BE%7C%D0%B2%D1%81%D0%B5%D0%B3%D0%BE%7C%D0%B8%D0%BC%D0%B5%D0%BD%D0%BD%D0%BE%29&gramm1=&sem1=&flags1=&sem-mod1=sem&sem-mod1=semx&morph1=&parent2=0&level2=0&min2=1&max2=1&lex2=%D0%BB%D0%B8%D1%88%D1%8C&gramm2=&sem2=&flags2=&sem-mod2=sem&sem-mod2=semx&morph2=&parent3=0&level3=0&min3=1&max3=1&lex3=-%28%D0%BB%D0%B8%D1%88%D1%8C%7C%D1%82%D0%BE%D0%BB%D1%8C%D0%BA%D0%BE%7C%D0%B2%D1%81%D0%B5%D0%B3%D0%BE%7C%D0%B8%D0%BC%D0%B5%D0%BD%D0%BD%D0%BE%29&gramm3=&sem3=&flags3=&sem-mod3=sem&sem-mod3=semx&morph3='\n",
    "vsego_url = 'https://processing.ruscorpora.ru/search.xml?env=alpha&api=1.0&mycorp=&mysent=&mysize=&mysentsize=&dpp=10&spp=50&spd=10&mydocsize=&mode=main&lang=ru&sort=i_grtagging&nodia=1&text=lexgramm&parent1=0&level1=0&lex1=-%28%D0%BB%D0%B8%D1%88%D1%8C%7C%D1%82%D0%BE%D0%BB%D1%8C%D0%BA%D0%BE%7C%D0%B2%D1%81%D0%B5%D0%B3%D0%BE%7C%D0%B8%D0%BC%D0%B5%D0%BD%D0%BD%D0%BE%7C%D0%BF%D1%80%D0%B5%D0%B6%D0%B4%D0%B5%29&gramm1=-comp&sem1=&flags1=&sem-mod1=sem&sem-mod1=semx&morph1=&parent2=0&level2=0&min2=1&max2=1&lex2=%D0%B2%D1%81%D0%B5%D0%B3%D0%BE&gramm2=&sem2=&flags2=&sem-mod2=sem&sem-mod2=semx&morph2=&parent3=0&level3=0&min3=1&max3=1&lex3=-%28%D0%BB%D0%B8%D1%88%D1%8C%7C%D1%82%D0%BE%D0%BB%D1%8C%D0%BA%D0%BE%7C%D0%B2%D1%81%D0%B5%D0%B3%D0%BE%7C%D0%B8%D0%BC%D0%B5%D0%BD%D0%BD%D0%BE%29&gramm3=&sem3=&flags3=&sem-mod3=sem&sem-mod3=semx&morph3='\n",
    "tolko_url = 'https://processing.ruscorpora.ru/search.xml?env=alpha&api=1.0&mycorp=&mysent=&mysize=&mysentsize=&dpp=10&spp=50&spd=10&mydocsize=&mode=main&lang=ru&sort=i_grtagging&nodia=1&text=lexgramm&parent1=0&level1=0&lex1=-%28%D0%B2%D0%BE%D1%82%7C%D0%BF%D1%83%D1%81%D1%82%D1%8C%7C%D0%BA%D0%B0%D0%BA%7C%D0%BB%D0%B8%D1%88%D1%8C%7C%D1%82%D0%BE%D0%BB%D1%8C%D0%BA%D0%BE%7C%D0%B2%D1%81%D0%B5%D0%B3%D0%BE%7C%D0%B8%D0%BC%D0%B5%D0%BD%D0%BD%D0%BE%29&gramm1=&sem1=&flags1=&sem-mod1=sem&sem-mod1=semx&morph1=&parent2=0&level2=0&min2=1&max2=1&lex2=%D1%82%D0%BE%D0%BB%D1%8C%D0%BA%D0%BE&gramm2=&sem2=&flags2=&sem-mod2=sem&sem-mod2=semx&morph2=&parent3=0&level3=0&min3=1&max3=1&lex3=-%28%D0%BB%D0%B8%D1%88%D1%8C%7C%D1%82%D0%BE%D0%BB%D1%8C%D0%BA%D0%BE%7C%D0%B2%D1%81%D0%B5%D0%B3%D0%BE%7C%D0%B8%D0%BC%D0%B5%D0%BD%D0%BD%D0%BE%7C%D1%87%D1%82%D0%BE%29&gramm3=&sem3=&flags3=&sem-mod3=sem&sem-mod3=semx&morph3='\n",
    "imenno_url = 'https://processing.ruscorpora.ru/search.xml?env=alpha&api=1.0&mycorp=&mysent=&mysize=&mysentsize=&dpp=10&spp=50&spd=10&mydocsize=&mode=main&lang=ru&sort=i_grtagging&nodia=1&text=lexgramm&parent1=0&level1=0&lex1=-%28%D0%B0%7C%D0%BB%D0%B8%D1%88%D1%8C%7C%D1%82%D0%BE%D0%BB%D1%8C%D0%BA%D0%BE%7C%D0%B2%D1%81%D0%B5%D0%B3%D0%BE%7C%D0%B8%D0%BC%D0%B5%D0%BD%D0%BD%D0%BE%29&gramm1=&sem1=&flags1=&sem-mod1=sem&sem-mod1=semx&morph1=&parent2=0&level2=0&min2=1&max2=1&lex2=%D0%B8%D0%BC%D0%B5%D0%BD%D0%BD%D0%BE&gramm2=&sem2=&flags2=&sem-mod2=sem&sem-mod2=semx&morph2=&parent3=0&level3=0&min3=1&max3=1&lex3=-%28%D0%BB%D0%B8%D1%88%D1%8C%7C%D1%82%D0%BE%D0%BB%D1%8C%D0%BA%D0%BE%7C%D0%B2%D1%81%D0%B5%D0%B3%D0%BE%7C%D0%B8%D0%BC%D0%B5%D0%BD%D0%BD%D0%BE%29&gramm3=&sem3=&flags3=&sem-mod3=sem&sem-mod3=semx&morph3='"
   ]
  },
  {
   "cell_type": "markdown",
   "id": "bfd078a4",
   "metadata": {},
   "source": [
    "Now let's collect the data for each query.  I will collect 100 examples for each particle, hence 10 result pages. <br>\n",
    "**! Warning: scrapping takes some time.**"
   ]
  },
  {
   "cell_type": "code",
   "execution_count": 5,
   "id": "80762acb",
   "metadata": {},
   "outputs": [
    {
     "name": "stderr",
     "output_type": "stream",
     "text": [
      "  0%|                                                    | 0/20 [00:00<?, ?it/s]\n"
     ]
    },
    {
     "ename": "AttributeError",
     "evalue": "'NoneType' object has no attribute 'find_all'",
     "output_type": "error",
     "traceback": [
      "\u001b[0;31m---------------------------------------------------------------------------\u001b[0m",
      "\u001b[0;31mAttributeError\u001b[0m                            Traceback (most recent call last)",
      "\u001b[0;32m/var/folders/r7/3p16zx8d24sfh5bhybvbj_hr0000gp/T/ipykernel_3959/3763531718.py\u001b[0m in \u001b[0;36m<module>\u001b[0;34m\u001b[0m\n\u001b[0;32m----> 1\u001b[0;31m \u001b[0mlish_df\u001b[0m \u001b[0;34m=\u001b[0m \u001b[0mruscorpora_extractor\u001b[0m\u001b[0;34m(\u001b[0m\u001b[0;36m20\u001b[0m\u001b[0;34m,\u001b[0m \u001b[0mlish_url\u001b[0m\u001b[0;34m)\u001b[0m\u001b[0;34m\u001b[0m\u001b[0;34m\u001b[0m\u001b[0m\n\u001b[0m",
      "\u001b[0;32m/var/folders/r7/3p16zx8d24sfh5bhybvbj_hr0000gp/T/ipykernel_3959/1381458921.py\u001b[0m in \u001b[0;36mruscorpora_extractor\u001b[0;34m(pages_num, url)\u001b[0m\n\u001b[1;32m     18\u001b[0m \u001b[0;34m\u001b[0m\u001b[0m\n\u001b[1;32m     19\u001b[0m         \u001b[0;31m# navigating the page\u001b[0m\u001b[0;34m\u001b[0m\u001b[0;34m\u001b[0m\u001b[0;34m\u001b[0m\u001b[0m\n\u001b[0;32m---> 20\u001b[0;31m         \u001b[0mexample_doc\u001b[0m \u001b[0;34m=\u001b[0m \u001b[0msoup\u001b[0m\u001b[0;34m.\u001b[0m\u001b[0mfind\u001b[0m\u001b[0;34m(\u001b[0m\u001b[0;34m\"ol\"\u001b[0m\u001b[0;34m)\u001b[0m\u001b[0;34m.\u001b[0m\u001b[0mfind_all\u001b[0m\u001b[0;34m(\u001b[0m\u001b[0;34m'table'\u001b[0m\u001b[0;34m)\u001b[0m\u001b[0;34m\u001b[0m\u001b[0;34m\u001b[0m\u001b[0m\n\u001b[0m\u001b[1;32m     21\u001b[0m \u001b[0;34m\u001b[0m\u001b[0m\n\u001b[1;32m     22\u001b[0m         \u001b[0;31m# from each document take only one example\u001b[0m\u001b[0;34m\u001b[0m\u001b[0;34m\u001b[0m\u001b[0;34m\u001b[0m\u001b[0m\n",
      "\u001b[0;31mAttributeError\u001b[0m: 'NoneType' object has no attribute 'find_all'"
     ]
    }
   ],
   "source": [
    "lish_df = ruscorpora_extractor(20, lish_url)"
   ]
  },
  {
   "cell_type": "code",
   "execution_count": 11,
   "id": "0538389c",
   "metadata": {},
   "outputs": [
    {
     "data": {
      "text/html": [
       "<div>\n",
       "<style scoped>\n",
       "    .dataframe tbody tr th:only-of-type {\n",
       "        vertical-align: middle;\n",
       "    }\n",
       "\n",
       "    .dataframe tbody tr th {\n",
       "        vertical-align: top;\n",
       "    }\n",
       "\n",
       "    .dataframe thead th {\n",
       "        text-align: right;\n",
       "    }\n",
       "</style>\n",
       "<table border=\"1\" class=\"dataframe\">\n",
       "  <thead>\n",
       "    <tr style=\"text-align: right;\">\n",
       "      <th></th>\n",
       "      <th>text</th>\n",
       "    </tr>\n",
       "  </thead>\n",
       "  <tbody>\n",
       "    <tr>\n",
       "      <th>0</th>\n",
       "      <td>[shilo_83 (nick)] )) Не заладилось, потому как...</td>\n",
       "    </tr>\n",
       "    <tr>\n",
       "      <th>1</th>\n",
       "      <td>[Rud (nick)]  Надевая колготки – синие, шерстя...</td>\n",
       "    </tr>\n",
       "    <tr>\n",
       "      <th>2</th>\n",
       "      <td>[awesom13]  Каждая семья здесь имеет свою исто...</td>\n",
       "    </tr>\n",
       "    <tr>\n",
       "      <th>3</th>\n",
       "      <td>[karelea (жен)]  В нём душ родных вовек не сос...</td>\n",
       "    </tr>\n",
       "    <tr>\n",
       "      <th>4</th>\n",
       "      <td>[Andron (муж)]  Даже определение «классика» не...</td>\n",
       "    </tr>\n",
       "    <tr>\n",
       "      <th>...</th>\n",
       "      <td>...</td>\n",
       "    </tr>\n",
       "    <tr>\n",
       "      <th>195</th>\n",
       "      <td>Величины pH меньше 4 выдерживают лишь мхи, вер...</td>\n",
       "    </tr>\n",
       "    <tr>\n",
       "      <th>196</th>\n",
       "      <td>Поэтому ответить читательнице могу лишь одно: ...</td>\n",
       "    </tr>\n",
       "    <tr>\n",
       "      <th>197</th>\n",
       "      <td>Исключение составляет лишь досрочное расторжен...</td>\n",
       "    </tr>\n",
       "    <tr>\n",
       "      <th>198</th>\n",
       "      <td>И доходит она (быстро, надо сказать, доходит) ...</td>\n",
       "    </tr>\n",
       "    <tr>\n",
       "      <th>199</th>\n",
       "      <td>Правда, остались от него лишь два быка, а поля...</td>\n",
       "    </tr>\n",
       "  </tbody>\n",
       "</table>\n",
       "<p>200 rows × 1 columns</p>\n",
       "</div>"
      ],
      "text/plain": [
       "                                                  text\n",
       "0    [shilo_83 (nick)] )) Не заладилось, потому как...\n",
       "1    [Rud (nick)]  Надевая колготки – синие, шерстя...\n",
       "2    [awesom13]  Каждая семья здесь имеет свою исто...\n",
       "3    [karelea (жен)]  В нём душ родных вовек не сос...\n",
       "4    [Andron (муж)]  Даже определение «классика» не...\n",
       "..                                                 ...\n",
       "195  Величины pH меньше 4 выдерживают лишь мхи, вер...\n",
       "196  Поэтому ответить читательнице могу лишь одно: ...\n",
       "197  Исключение составляет лишь досрочное расторжен...\n",
       "198  И доходит она (быстро, надо сказать, доходит) ...\n",
       "199  Правда, остались от него лишь два быка, а поля...\n",
       "\n",
       "[200 rows x 1 columns]"
      ]
     },
     "execution_count": 11,
     "metadata": {},
     "output_type": "execute_result"
    }
   ],
   "source": [
    "lish_df"
   ]
  },
  {
   "cell_type": "code",
   "execution_count": 12,
   "id": "efbedad6",
   "metadata": {},
   "outputs": [
    {
     "name": "stderr",
     "output_type": "stream",
     "text": [
      "100%|███████████████████████████████████████████| 20/20 [00:30<00:00,  1.51s/it]\n"
     ]
    }
   ],
   "source": [
    "vsego_df = ruscorpora_extractor(20, vsego_url)"
   ]
  },
  {
   "cell_type": "code",
   "execution_count": 13,
   "id": "e5e77e96",
   "metadata": {
    "scrolled": false
   },
   "outputs": [
    {
     "name": "stderr",
     "output_type": "stream",
     "text": [
      "100%|███████████████████████████████████████████| 20/20 [01:25<00:00,  4.28s/it]\n"
     ]
    }
   ],
   "source": [
    "tolko_df = ruscorpora_extractor(20, tolko_url)"
   ]
  },
  {
   "cell_type": "code",
   "execution_count": 14,
   "id": "00ffc69f",
   "metadata": {
    "scrolled": true
   },
   "outputs": [
    {
     "name": "stderr",
     "output_type": "stream",
     "text": [
      "100%|███████████████████████████████████████████| 20/20 [00:29<00:00,  1.47s/it]\n"
     ]
    }
   ],
   "source": [
    "imenno_df = ruscorpora_extractor(20, imenno_url)"
   ]
  },
  {
   "cell_type": "code",
   "execution_count": 17,
   "id": "cfb45dbf",
   "metadata": {},
   "outputs": [],
   "source": [
    "lish_df.to_csv(\"ptcl_lish-orig.csv\", index=None)\n",
    "vsego_df.to_csv(\"ptcl_vsego-orig.csv\", index=None)\n",
    "imenno_df.to_csv(\"ptcl_imenno-orig.csv\", index=None)\n",
    "tolko_df.to_csv(\"ptcl_tolko-orig.csv\", index=None)"
   ]
  },
  {
   "cell_type": "markdown",
   "id": "1a705b0c",
   "metadata": {},
   "source": [
    "### 3.2. Data annotation \n",
    "Now we are going to enrich the data with the following information: \n",
    "\n",
    "* Dependency type of the particle\n",
    "* The word that the particle associates with (*an associate*)\n",
    "* POS of the associate\n",
    "* Dependency type of the associate\n"
   ]
  },
  {
   "cell_type": "markdown",
   "id": "c213a9c7",
   "metadata": {},
   "source": [
    "#### 3.2.1. Prior experimentation\n",
    "\n",
    "Typically, focus-sensitive particles in Russian are linearly adjacent to their associates (partly, due to the relatively free word order in Russian). But this is not always the case. For instance, when associated with N, these particles linearly attach to the whole NP (i.e. to the modifiers of N). They also cannot penetrate PP, when associated with an N or an NP, embedded in it.\n",
    "\n",
    "Because of these peculiarities, we will try to determine an associate of a particle, based on their syntactic dependencies (in the form that is employed in SpaCy), rather than count on linear order.\n",
    "\n",
    "Let's play with some examples and see if SpaCy gives us any meaningful results.\n"
   ]
  },
  {
   "cell_type": "code",
   "execution_count": 27,
   "id": "e2880dbc",
   "metadata": {},
   "outputs": [],
   "source": [
    "ex_text_1 = \"«От себя» добавляю только мелко нарезанный укроп.\" \n",
    "ex_text_2 = \"Оставалось только попросить его уйти.\" \n",
    "ex_text_3 = \"― В России всего восемь регионов, где финансовые дела обстоят относительно благополучно.\" \n",
    "ex_text_4 = \"так дурной вкус в искусстве радуется лишь эффектному орнаменту и не откликается на естественную красоту\"  \n",
    "ex_text_5 = 'Ты наносишь капельку только тонкой кисточкой.' \n",
    "ex_text_6 = 'Он только зашел укрыться от дождя.' \n",
    "ex_text_7 = 'Меня отпустили всего на несколько дней.' "
   ]
  },
  {
   "cell_type": "code",
   "execution_count": 28,
   "id": "2e45339e",
   "metadata": {},
   "outputs": [],
   "source": [
    "import spacy\n",
    "nlp_ru = spacy.load(\"ru_core_news_sm\")"
   ]
  },
  {
   "cell_type": "markdown",
   "id": "f92379c0",
   "metadata": {},
   "source": [
    "Here's a function that collects everything we are interested in for a relevant word (particle, in our case), and returns a dictionary with collected information.\n",
    "\n",
    "We discriminate between <br>\n",
    "an `immediate constituent` – the one a particle linearly attaches to;<br>\n",
    "a `higher constituent` – if the immediate constituent is a modifier of some sort, the higher constituent is a head of this modifier, otherwise, the same as an immediate constituent;<br>\n",
    "an `assosiate_phrase` – a subtree of an immediate constituent or, if it's a modifier, of a higher constituent (more or less a syntactic phrase that a particle attaches to)."
   ]
  },
  {
   "cell_type": "code",
   "execution_count": 29,
   "id": "1f6eb301",
   "metadata": {},
   "outputs": [],
   "source": [
    "def is_modifier(tag):\n",
    "    tag = tag.split(':')[0]\n",
    "\n",
    "    # mod is for nmod, amod, nummod\n",
    "    # acl: clausal modifier\n",
    "    # appos: appositional modifier\n",
    "    if tag[-3:] == 'mod' in tag or 'acl' in tag or 'appos' in tag: \n",
    "        return True\n",
    "    else:\n",
    "        return False\n",
    "    \n",
    "    \n",
    "def collect_word_info(spacy_model, txt, target_word): \n",
    "    doc = spacy_model(txt)\n",
    "    \n",
    "    for token in doc:\n",
    "        # identify a target word and collect data for it\n",
    "        if token.text.lower() == target_word:\n",
    "        \n",
    "            true_head = token.head\n",
    "            \n",
    "            # check if the head is a modifier, if it is, consider this modifier's head a new head\n",
    "            # this is needed to identify cases where a particle assosiates with a more-than-one-word constituent \n",
    "            while is_modifier(true_head.dep_) != False:\n",
    "                 true_head = true_head.head\n",
    "        \n",
    "            # find the constituent that the particle attaches to \n",
    "            if true_head.dep_ == \"ROOT\": \n",
    "                subtree_list = [token.head.text] \n",
    "            \n",
    "            else:\n",
    "                subtree = true_head.subtree\n",
    "                subtree_list = []\n",
    "                for t in subtree: \n",
    "                    if t.text != target_word:\n",
    "                        subtree_list.append(t.text)\n",
    "                    \n",
    "            head_dict = {\n",
    "                    \"orig_sentence\": txt,\n",
    "                    \"token\" : token.text.lower(),\n",
    "                    \"dep_type\" : token.dep_,\n",
    "                    \"pos\" : token.pos_,\n",
    "\n",
    "                    \"immediate_head_text\" : token.head.text,\n",
    "                    \"immediate_head_pos\" : token.head.pos_, \n",
    "                    \"immediate_head_dep_type\" : token.head.dep_,\n",
    "\n",
    "                    \"higher_head_text\" : true_head.text,\n",
    "                    \"higher_head_pos\" : true_head.pos_, \n",
    "                    \"higher_head_dep_type\" : true_head.dep_, \n",
    "\n",
    "                    \"assosiate_phrase\" : ' '.join(subtree_list),\n",
    "                    \"assosiate_phrase_n\" : len(subtree_list)\n",
    "            }\n",
    "            break \n",
    "        \n",
    "    return head_dict"
   ]
  },
  {
   "cell_type": "code",
   "execution_count": 30,
   "id": "a1fee33b",
   "metadata": {},
   "outputs": [
    {
     "name": "stdout",
     "output_type": "stream",
     "text": [
      "{'orig_sentence': '«От себя» добавляю только мелко нарезанный укроп.', 'token': 'только', 'dep_type': 'advmod', 'pos': 'PART', 'immediate_head_text': 'мелко', 'immediate_head_pos': 'ADV', 'immediate_head_dep_type': 'advmod', 'higher_head_text': 'укроп', 'higher_head_pos': 'NOUN', 'higher_head_dep_type': 'obj', 'assosiate_phrase': 'мелко нарезанный укроп', 'assosiate_phrase_n': 3}\n",
      "{'orig_sentence': 'Оставалось только попросить его уйти.', 'token': 'только', 'dep_type': 'advmod', 'pos': 'PART', 'immediate_head_text': 'попросить', 'immediate_head_pos': 'VERB', 'immediate_head_dep_type': 'csubj', 'higher_head_text': 'попросить', 'higher_head_pos': 'VERB', 'higher_head_dep_type': 'csubj', 'assosiate_phrase': 'попросить его уйти', 'assosiate_phrase_n': 3}\n",
      "{'orig_sentence': '― В России всего восемь регионов, где финансовые дела обстоят относительно благополучно.', 'token': 'всего', 'dep_type': 'advmod', 'pos': 'PART', 'immediate_head_text': 'восемь', 'immediate_head_pos': 'NUM', 'immediate_head_dep_type': 'nummod:gov', 'higher_head_text': 'регионов', 'higher_head_pos': 'NOUN', 'higher_head_dep_type': 'nsubj', 'assosiate_phrase': 'восемь регионов , где финансовые дела обстоят относительно благополучно', 'assosiate_phrase_n': 9}\n",
      "{'orig_sentence': 'так дурной вкус в искусстве радуется лишь эффектному орнаменту и не откликается на естественную красоту', 'token': 'лишь', 'dep_type': 'advmod', 'pos': 'PART', 'immediate_head_text': 'эффектному', 'immediate_head_pos': 'ADJ', 'immediate_head_dep_type': 'amod', 'higher_head_text': 'орнаменту', 'higher_head_pos': 'NOUN', 'higher_head_dep_type': 'iobj', 'assosiate_phrase': 'эффектному орнаменту', 'assosiate_phrase_n': 2}\n",
      "{'orig_sentence': 'Ты наносишь капельку только тонкой кисточкой.', 'token': 'только', 'dep_type': 'advmod', 'pos': 'PART', 'immediate_head_text': 'тонкой', 'immediate_head_pos': 'ADJ', 'immediate_head_dep_type': 'amod', 'higher_head_text': 'кисточкой', 'higher_head_pos': 'NOUN', 'higher_head_dep_type': 'obl', 'assosiate_phrase': 'тонкой кисточкой', 'assosiate_phrase_n': 2}\n",
      "{'orig_sentence': 'Он только зашел укрыться от дождя.', 'token': 'только', 'dep_type': 'advmod', 'pos': 'PART', 'immediate_head_text': 'зашел', 'immediate_head_pos': 'VERB', 'immediate_head_dep_type': 'ROOT', 'higher_head_text': 'зашел', 'higher_head_pos': 'VERB', 'higher_head_dep_type': 'ROOT', 'assosiate_phrase': 'зашел', 'assosiate_phrase_n': 1}\n",
      "{'orig_sentence': 'Меня отпустили всего на несколько дней.', 'token': 'всего', 'dep_type': 'advmod', 'pos': 'PART', 'immediate_head_text': 'дней', 'immediate_head_pos': 'NOUN', 'immediate_head_dep_type': 'obl', 'higher_head_text': 'дней', 'higher_head_pos': 'NOUN', 'higher_head_dep_type': 'obl', 'assosiate_phrase': 'на несколько дней', 'assosiate_phrase_n': 3}\n"
     ]
    }
   ],
   "source": [
    "print(collect_word_info(nlp_ru, ex_text_1, \"только\"))\n",
    "print(collect_word_info(nlp_ru, ex_text_2, \"только\"))\n",
    "print(collect_word_info(nlp_ru, ex_text_3, \"всего\"))\n",
    "print(collect_word_info(nlp_ru, ex_text_4, \"лишь\"))\n",
    "print(collect_word_info(nlp_ru, ex_text_5, \"только\"))\n",
    "print(collect_word_info(nlp_ru, ex_text_6, \"только\"))\n",
    "print(collect_word_info(nlp_ru, ex_text_7, \"всего\"))"
   ]
  },
  {
   "cell_type": "markdown",
   "id": "853b0c45",
   "metadata": {},
   "source": [
    "It works quite fine. If a particle attaches to the one-word constituent, we will see that its immediate head, higher head, and associate phase will coincide.\n",
    "\n",
    "Unfortunately, there seems to be no way to determine the size of a constituent particle associates with (cf. 'всего восемь'). Also, some sentences are ambiguous in natural language, too. We will try to take into account different parameters when we investigate frequencies."
   ]
  },
  {
   "cell_type": "markdown",
   "id": "37d91f07",
   "metadata": {},
   "source": [
    "#### 3.2.2. Data enrichment\n",
    "\n",
    "Now let's update the data frames.\n"
   ]
  },
  {
   "cell_type": "code",
   "execution_count": 31,
   "id": "828404a6",
   "metadata": {},
   "outputs": [
    {
     "ename": "NameError",
     "evalue": "name 'vsego_df' is not defined",
     "output_type": "error",
     "traceback": [
      "\u001b[0;31m---------------------------------------------------------------------------\u001b[0m",
      "\u001b[0;31mNameError\u001b[0m                                 Traceback (most recent call last)",
      "\u001b[0;32m/var/folders/r7/3p16zx8d24sfh5bhybvbj_hr0000gp/T/ipykernel_3959/1342537495.py\u001b[0m in \u001b[0;36m<module>\u001b[0;34m\u001b[0m\n\u001b[1;32m      1\u001b[0m \u001b[0mvsego_df_updated\u001b[0m \u001b[0;34m=\u001b[0m \u001b[0mpd\u001b[0m\u001b[0;34m.\u001b[0m\u001b[0mDataFrame\u001b[0m\u001b[0;34m(\u001b[0m\u001b[0;34m)\u001b[0m\u001b[0;34m\u001b[0m\u001b[0;34m\u001b[0m\u001b[0m\n\u001b[0;32m----> 2\u001b[0;31m \u001b[0;32mfor\u001b[0m \u001b[0mtext\u001b[0m \u001b[0;32min\u001b[0m \u001b[0mvsego_df\u001b[0m\u001b[0;34m[\u001b[0m\u001b[0;34m\"text\"\u001b[0m\u001b[0;34m]\u001b[0m\u001b[0;34m:\u001b[0m\u001b[0;34m\u001b[0m\u001b[0;34m\u001b[0m\u001b[0m\n\u001b[0m\u001b[1;32m      3\u001b[0m     \u001b[0minfo\u001b[0m \u001b[0;34m=\u001b[0m \u001b[0mcollect_word_info\u001b[0m\u001b[0;34m(\u001b[0m\u001b[0mnlp_ru\u001b[0m\u001b[0;34m,\u001b[0m \u001b[0mtext\u001b[0m\u001b[0;34m,\u001b[0m \u001b[0;34m\"всего\"\u001b[0m\u001b[0;34m)\u001b[0m\u001b[0;34m\u001b[0m\u001b[0;34m\u001b[0m\u001b[0m\n\u001b[1;32m      4\u001b[0m     \u001b[0mvsego_df_updated\u001b[0m \u001b[0;34m=\u001b[0m \u001b[0mvsego_df_updated\u001b[0m\u001b[0;34m.\u001b[0m\u001b[0mappend\u001b[0m\u001b[0;34m(\u001b[0m\u001b[0minfo\u001b[0m\u001b[0;34m,\u001b[0m \u001b[0mignore_index\u001b[0m\u001b[0;34m=\u001b[0m\u001b[0;32mTrue\u001b[0m\u001b[0;34m)\u001b[0m\u001b[0;34m\u001b[0m\u001b[0;34m\u001b[0m\u001b[0m\n\u001b[1;32m      5\u001b[0m \u001b[0;34m\u001b[0m\u001b[0m\n",
      "\u001b[0;31mNameError\u001b[0m: name 'vsego_df' is not defined"
     ]
    }
   ],
   "source": [
    "vsego_df_updated = pd.DataFrame()\n",
    "for text in vsego_df[\"text\"]: \n",
    "    info = collect_word_info(nlp_ru, text, \"всего\")\n",
    "    vsego_df_updated = vsego_df_updated.append(info, ignore_index=True)\n",
    "\n",
    "vsego_df_updated.head()"
   ]
  },
  {
   "cell_type": "code",
   "execution_count": 27,
   "id": "9e51766d",
   "metadata": {},
   "outputs": [
    {
     "data": {
      "text/html": [
       "<div>\n",
       "<style scoped>\n",
       "    .dataframe tbody tr th:only-of-type {\n",
       "        vertical-align: middle;\n",
       "    }\n",
       "\n",
       "    .dataframe tbody tr th {\n",
       "        vertical-align: top;\n",
       "    }\n",
       "\n",
       "    .dataframe thead th {\n",
       "        text-align: right;\n",
       "    }\n",
       "</style>\n",
       "<table border=\"1\" class=\"dataframe\">\n",
       "  <thead>\n",
       "    <tr style=\"text-align: right;\">\n",
       "      <th></th>\n",
       "      <th>orig_sentence</th>\n",
       "      <th>token</th>\n",
       "      <th>dep_type</th>\n",
       "      <th>pos</th>\n",
       "      <th>immediate_head_text</th>\n",
       "      <th>immediate_head_pos</th>\n",
       "      <th>immediate_head_dep_type</th>\n",
       "      <th>higher_head_text</th>\n",
       "      <th>higher_head_pos</th>\n",
       "      <th>higher_head_dep_type</th>\n",
       "      <th>assosiate_phrase</th>\n",
       "      <th>assosiate_phrase_n</th>\n",
       "    </tr>\n",
       "  </thead>\n",
       "  <tbody>\n",
       "    <tr>\n",
       "      <th>0</th>\n",
       "      <td>[Шведов_ВВ (nick)]  Моя работа приносит мне не...</td>\n",
       "      <td>только</td>\n",
       "      <td>fixed</td>\n",
       "      <td>PART</td>\n",
       "      <td>не</td>\n",
       "      <td>PART</td>\n",
       "      <td>cc</td>\n",
       "      <td>не</td>\n",
       "      <td>PART</td>\n",
       "      <td>cc</td>\n",
       "      <td>не</td>\n",
       "      <td>1.0</td>\n",
       "    </tr>\n",
       "    <tr>\n",
       "      <th>1</th>\n",
       "      <td>[BigKat (nick)]  А-ля греческий: Брынзу (я пок...</td>\n",
       "      <td>только</td>\n",
       "      <td>advmod</td>\n",
       "      <td>PART</td>\n",
       "      <td>заправки</td>\n",
       "      <td>NOUN</td>\n",
       "      <td>obl</td>\n",
       "      <td>заправки</td>\n",
       "      <td>NOUN</td>\n",
       "      <td>obl</td>\n",
       "      <td>после заправки</td>\n",
       "      <td>2.0</td>\n",
       "    </tr>\n",
       "    <tr>\n",
       "      <th>2</th>\n",
       "      <td>[Kachora (nick)]  А еще ходить на пары все, и ...</td>\n",
       "      <td>только</td>\n",
       "      <td>advmod</td>\n",
       "      <td>PART</td>\n",
       "      <td>тогда</td>\n",
       "      <td>ADV</td>\n",
       "      <td>advmod</td>\n",
       "      <td>Kachora</td>\n",
       "      <td>PROPN</td>\n",
       "      <td>ROOT</td>\n",
       "      <td>тогда</td>\n",
       "      <td>1.0</td>\n",
       "    </tr>\n",
       "    <tr>\n",
       "      <th>3</th>\n",
       "      <td>[alla (nick)]  А объясняют это следующим образ...</td>\n",
       "      <td>только</td>\n",
       "      <td>advmod</td>\n",
       "      <td>PART</td>\n",
       "      <td>%</td>\n",
       "      <td>SYM</td>\n",
       "      <td>obl</td>\n",
       "      <td>%</td>\n",
       "      <td>SYM</td>\n",
       "      <td>obl</td>\n",
       "      <td>на 30 % , а не на все 100</td>\n",
       "      <td>9.0</td>\n",
       "    </tr>\n",
       "    <tr>\n",
       "      <th>4</th>\n",
       "      <td>[Rud (nick)]  В книге реально описаны события,...</td>\n",
       "      <td>только</td>\n",
       "      <td>advmod</td>\n",
       "      <td>PART</td>\n",
       "      <td>слезы</td>\n",
       "      <td>NOUN</td>\n",
       "      <td>nsubj</td>\n",
       "      <td>слезы</td>\n",
       "      <td>NOUN</td>\n",
       "      <td>nsubj</td>\n",
       "      <td>слезы</td>\n",
       "      <td>1.0</td>\n",
       "    </tr>\n",
       "  </tbody>\n",
       "</table>\n",
       "</div>"
      ],
      "text/plain": [
       "                                       orig_sentence   token dep_type   pos  \\\n",
       "0  [Шведов_ВВ (nick)]  Моя работа приносит мне не...  только    fixed  PART   \n",
       "1  [BigKat (nick)]  А-ля греческий: Брынзу (я пок...  только   advmod  PART   \n",
       "2  [Kachora (nick)]  А еще ходить на пары все, и ...  только   advmod  PART   \n",
       "3  [alla (nick)]  А объясняют это следующим образ...  только   advmod  PART   \n",
       "4  [Rud (nick)]  В книге реально описаны события,...  только   advmod  PART   \n",
       "\n",
       "  immediate_head_text immediate_head_pos immediate_head_dep_type  \\\n",
       "0                  не               PART                      cc   \n",
       "1            заправки               NOUN                     obl   \n",
       "2               тогда                ADV                  advmod   \n",
       "3                   %                SYM                     obl   \n",
       "4               слезы               NOUN                   nsubj   \n",
       "\n",
       "  higher_head_text higher_head_pos higher_head_dep_type  \\\n",
       "0               не            PART                   cc   \n",
       "1         заправки            NOUN                  obl   \n",
       "2          Kachora           PROPN                 ROOT   \n",
       "3                %             SYM                  obl   \n",
       "4            слезы            NOUN                nsubj   \n",
       "\n",
       "            assosiate_phrase  assosiate_phrase_n  \n",
       "0                         не                 1.0  \n",
       "1             после заправки                 2.0  \n",
       "2                      тогда                 1.0  \n",
       "3  на 30 % , а не на все 100                 9.0  \n",
       "4                      слезы                 1.0  "
      ]
     },
     "execution_count": 27,
     "metadata": {},
     "output_type": "execute_result"
    }
   ],
   "source": [
    "tolko_df_updated = pd.DataFrame()\n",
    "for text in tolko_df[\"text\"]: \n",
    "    info = collect_word_info(nlp_ru, text, \"только\")\n",
    "    tolko_df_updated = tolko_df_updated.append(info, ignore_index=True)\n",
    "\n",
    "tolko_df_updated.head()"
   ]
  },
  {
   "cell_type": "code",
   "execution_count": 28,
   "id": "05e3dc78",
   "metadata": {},
   "outputs": [],
   "source": [
    "imenno_df_updated = pd.DataFrame()\n",
    "for text in imenno_df[\"text\"]: \n",
    "    info = collect_word_info(nlp_ru, text, \"именно\")\n",
    "    imenno_df_updated = imenno_df_updated.append(info, ignore_index=True)\n",
    "\n",
    "#imenno_df_updated.head()"
   ]
  },
  {
   "cell_type": "code",
   "execution_count": 29,
   "id": "1d0bae4b",
   "metadata": {},
   "outputs": [],
   "source": [
    "lish_df_updated = pd.DataFrame()\n",
    "for text in lish_df[\"text\"]: \n",
    "    info = collect_word_info(nlp_ru, text, \"лишь\")\n",
    "    lish_df_updated = lish_df_updated.append(info, ignore_index=True)\n",
    "\n",
    "#lish_df_updated.head()"
   ]
  },
  {
   "cell_type": "markdown",
   "id": "a6d3a4ac",
   "metadata": {},
   "source": [
    "I will also save these dataframes locally."
   ]
  },
  {
   "cell_type": "code",
   "execution_count": 30,
   "id": "77f312df",
   "metadata": {},
   "outputs": [],
   "source": [
    "lish_df_updated.to_csv(\"ptcl_lish-annotated.csv\", index=None)\n",
    "vsego_df_updated.to_csv(\"ptcl_vsego-annotated.csv\", index=None)\n",
    "imenno_df_updated.to_csv(\"ptcl_imenno-annotated.csv\", index=None)\n",
    "tolko_df_updated.to_csv(\"ptcl_tolko-annotated.csv\", index=None)"
   ]
  },
  {
   "cell_type": "markdown",
   "id": "92dd156d",
   "metadata": {},
   "source": [
    "### 3.3. Data analysis\n",
    "\n",
    "#### 3.3.1. Preliminary\n",
    "Let's have a look at some raw numbers. <br>\n",
    "Firstly, I would like to see if there is any difference in POS between an immediate head and a higher one (just to see if this distinction makes sense at all)."
   ]
  },
  {
   "cell_type": "code",
   "execution_count": 31,
   "id": "dae00f7b",
   "metadata": {},
   "outputs": [
    {
     "name": "stdout",
     "output_type": "stream",
     "text": [
      "--vsego--\n",
      "NUM      118\n",
      "NOUN      55\n",
      "VERB       9\n",
      "ADV        6\n",
      "SYM        4\n",
      "DET        3\n",
      "ADJ        2\n",
      "PRON       2\n",
      "PROPN      1\n",
      "Name: immediate_head_pos, dtype: int64\n",
      "NOUN     149\n",
      "NUM       14\n",
      "VERB      10\n",
      "SYM        7\n",
      "PROPN      4\n",
      "ADV        4\n",
      "ADJ        4\n",
      "PRON       4\n",
      "DET        3\n",
      "X          1\n",
      "Name: higher_head_pos, dtype: int64\n",
      "--tolko--\n",
      "NOUN     61\n",
      "PART     59\n",
      "VERB     20\n",
      "ADV      14\n",
      "NUM      13\n",
      "ADJ      11\n",
      "DET       7\n",
      "PRON      7\n",
      "PROPN     7\n",
      "SYM       1\n",
      "Name: immediate_head_pos, dtype: int64\n",
      "NOUN     82\n",
      "PART     59\n",
      "VERB     23\n",
      "PROPN     9\n",
      "PRON      9\n",
      "DET       7\n",
      "SYM       6\n",
      "ADJ       2\n",
      "NUM       2\n",
      "ADV       1\n",
      "Name: higher_head_pos, dtype: int64\n"
     ]
    }
   ],
   "source": [
    "print('--vsego--')\n",
    "print(vsego_df_updated['immediate_head_pos'].value_counts())\n",
    "print(vsego_df_updated['higher_head_pos'].value_counts())\n",
    "\n",
    "print('--tolko--')\n",
    "print(tolko_df_updated['immediate_head_pos'].value_counts())\n",
    "print(tolko_df_updated['higher_head_pos'].value_counts())\n"
   ]
  },
  {
   "cell_type": "markdown",
   "id": "ab898c9e",
   "metadata": {},
   "source": [
    "<br>\n",
    "\n",
    "**Some observations**: \n",
    "1. Some of the differences between immediate and higher head properties are the results of the decisions we made earlier. For instance, ADJs, NUMs, and ADVs are not numerous among the higher heads, because those are typically modifiers. \n",
    "\n",
    "2. Particles do differ concerning the preferrable parts of speech of their associates. If we look at the numbers for immediate heads, 'всего' tend to combine with NUMs whereas 'только' does not typically combine with them. On the contrary, ADVs and VERBs are used with 'только' more frequently than with 'всего'. "
   ]
  },
  {
   "cell_type": "markdown",
   "id": "d237f372",
   "metadata": {},
   "source": [
    "Also, let's see what the size of constituents can show us: "
   ]
  },
  {
   "cell_type": "code",
   "execution_count": 32,
   "id": "03099177",
   "metadata": {},
   "outputs": [
    {
     "name": "stdout",
     "output_type": "stream",
     "text": [
      "2.0    44\n",
      "1.0    30\n",
      "3.0    27\n",
      "4.0    24\n",
      "5.0    19\n",
      "Name: assosiate_phrase_n, dtype: int64\n",
      "1.0    91\n",
      "3.0    23\n",
      "2.0    18\n",
      "5.0    13\n",
      "4.0     7\n",
      "Name: assosiate_phrase_n, dtype: int64\n",
      "1.0    40\n",
      "4.0    26\n",
      "3.0    25\n",
      "2.0    25\n",
      "6.0    11\n",
      "Name: assosiate_phrase_n, dtype: int64\n",
      "1.0    76\n",
      "3.0    27\n",
      "2.0    20\n",
      "4.0    12\n",
      "5.0    12\n",
      "Name: assosiate_phrase_n, dtype: int64\n"
     ]
    }
   ],
   "source": [
    "print(vsego_df_updated['assosiate_phrase_n'].value_counts().head())\n",
    "print(tolko_df_updated['assosiate_phrase_n'].value_counts().head())\n",
    "print(lish_df_updated['assosiate_phrase_n'].value_counts().head())\n",
    "print(imenno_df_updated['assosiate_phrase_n'].value_counts().head())"
   ]
  },
  {
   "cell_type": "markdown",
   "id": "d2f6145e",
   "metadata": {},
   "source": [
    "It seems, some particles tend to attach to modified constituents (either associating with an embedded element or with the whole NP) (всего, лишь), whereas others behave more or less indifferently to the size of the constituent (только, именно). (Generally, we expect smaller constituents to have higher numbers). "
   ]
  },
  {
   "cell_type": "markdown",
   "id": "a400f62a",
   "metadata": {},
   "source": [
    "#### 3.3.2. Visualization\n"
   ]
  },
  {
   "cell_type": "markdown",
   "id": "24fc2b69",
   "metadata": {},
   "source": [
    "Let's now visualize the differences properly."
   ]
  },
  {
   "cell_type": "code",
   "execution_count": 33,
   "id": "db10227f",
   "metadata": {},
   "outputs": [],
   "source": [
    "import matplotlib.pyplot as plt\n",
    "%matplotlib inline\n",
    "import seaborn as sns"
   ]
  },
  {
   "cell_type": "code",
   "execution_count": 34,
   "id": "a90899db",
   "metadata": {},
   "outputs": [
    {
     "data": {
      "text/plain": [
       "800"
      ]
     },
     "execution_count": 34,
     "metadata": {},
     "output_type": "execute_result"
    }
   ],
   "source": [
    "particles_all = pd.DataFrame()\n",
    "\n",
    "# create the dataframe containing the data on all particles\n",
    "frames = [vsego_df_updated, imenno_df_updated, tolko_df_updated, lish_df_updated]\n",
    "particles_all = pd.concat(frames)\n",
    "len(particles_all)"
   ]
  },
  {
   "cell_type": "markdown",
   "id": "ec2dfc82",
   "metadata": {},
   "source": [
    "Firstly, let's see POS preferences for an immediate and a higher head. "
   ]
  },
  {
   "cell_type": "code",
   "execution_count": 35,
   "id": "924f4451",
   "metadata": {
    "scrolled": true
   },
   "outputs": [
    {
     "name": "stderr",
     "output_type": "stream",
     "text": [
      "/Library/Frameworks/Python.framework/Versions/3.9/lib/python3.9/site-packages/seaborn/axisgrid.py:670: UserWarning: Using the countplot function without specifying `order` is likely to produce an incorrect plot.\n",
      "  warnings.warn(warning)\n"
     ]
    },
    {
     "data": {
      "text/plain": [
       "<seaborn.axisgrid.FacetGrid at 0x7fc9c184e9d0>"
      ]
     },
     "execution_count": 35,
     "metadata": {},
     "output_type": "execute_result"
    },
    {
     "data": {
      "image/png": "[encoded data removed]",
      "text/plain": [
       "<Figure size 1152x288 with 4 Axes>"
      ]
     },
     "metadata": {
      "needs_background": "light"
     },
     "output_type": "display_data"
    }
   ],
   "source": [
    "g = sns.FacetGrid(particles_all, col=\"token\", height=4, aspect=1)\n",
    "g.map(sns.countplot, 'immediate_head_pos', palette = \"Paired\")\n"
   ]
  },
  {
   "cell_type": "code",
   "execution_count": 36,
   "id": "c78aa277",
   "metadata": {},
   "outputs": [
    {
     "name": "stderr",
     "output_type": "stream",
     "text": [
      "/Library/Frameworks/Python.framework/Versions/3.9/lib/python3.9/site-packages/seaborn/axisgrid.py:670: UserWarning: Using the countplot function without specifying `order` is likely to produce an incorrect plot.\n",
      "  warnings.warn(warning)\n"
     ]
    },
    {
     "data": {
      "text/plain": [
       "<seaborn.axisgrid.FacetGrid at 0x7fc9c8274df0>"
      ]
     },
     "execution_count": 36,
     "metadata": {},
     "output_type": "execute_result"
    },
    {
     "data": {
      "image/png": "[encoded data removed]",
      "text/plain": [
       "<Figure size 1152x288 with 4 Axes>"
      ]
     },
     "metadata": {
      "needs_background": "light"
     },
     "output_type": "display_data"
    }
   ],
   "source": [
    "g = sns.FacetGrid(particles_all, col=\"token\", height=4, aspect=1)\n",
    "g.map(sns.countplot, 'higher_head_pos', palette = \"Paired\")"
   ]
  },
  {
   "cell_type": "markdown",
   "id": "85e2eb6e",
   "metadata": {},
   "source": [
    "Some observations made based on these figures are reported in [a summary table](#3.4.-Interim-summary)."
   ]
  },
  {
   "cell_type": "code",
   "execution_count": 141,
   "id": "0cfd003a",
   "metadata": {},
   "outputs": [
    {
     "data": {
      "text/plain": [
       "<seaborn.axisgrid.FacetGrid at 0x7fce8d526cd0>"
      ]
     },
     "execution_count": 141,
     "metadata": {},
     "output_type": "execute_result"
    },
    {
     "data": {
      "image/png": "[encoded data removed]",
      "text/plain": [
       "<Figure size 1152x288 with 4 Axes>"
      ]
     },
     "metadata": {
      "needs_background": "light"
     },
     "output_type": "display_data"
    }
   ],
   "source": [
    "g = sns.FacetGrid(particles_all, col=\"token\", height=4, aspect=1, palette=\"Set2\")\n",
    "g.map(sns.histplot, 'assosiate_phrase_n')"
   ]
  },
  {
   "cell_type": "markdown",
   "id": "650c3258",
   "metadata": {},
   "source": [
    "This plot shows that \"именно\" and \"только\" frequently attach to single-worded constituents.<br>\n",
    "Whereas \"всего\" and \"лишь\" seem to attach to some bigger constituents. Maybe this is due to the fact that they like to associate with some modifiers."
   ]
  },
  {
   "cell_type": "markdown",
   "id": "8683dff2",
   "metadata": {},
   "source": [
    "Let's now investigate dependency properties."
   ]
  },
  {
   "cell_type": "code",
   "execution_count": 142,
   "id": "c7cf92bf",
   "metadata": {},
   "outputs": [],
   "source": [
    "# create a new dataframe\n",
    "vsego_dep_type = pd.DataFrame(data = {'immediate': [], 'higher': []})\n",
    "\n",
    "# take a set of dependency tags and set them as indices in a df\n",
    "vsego_tags = set(vsego_df_updated['immediate_head_dep_type']).union(set(vsego_df_updated['higher_head_dep_type']))\n",
    "vsego_dep_type.set_index = list(vsego_tags)\n",
    "\n",
    "# add counts from an original df to a new df\n",
    "vsego_counts_immediate = vsego_df_updated['immediate_head_dep_type'].value_counts()\n",
    "vsego_counts_higher = vsego_df_updated['higher_head_dep_type'].value_counts()\n",
    "\n",
    "# paste all values into a new df\n",
    "for val in vsego_counts_immediate.index.values: \n",
    "    vsego_dep_type.at[val, 'immediate'] = vsego_counts_immediate[val]\n",
    "for val in vsego_counts_higher.index.values: \n",
    "    vsego_dep_type.at[val, 'higher'] = vsego_counts_higher[val]\n",
    "\n",
    "# fill na's, indicate mean value\n",
    "vsego_dep_type = vsego_dep_type.fillna(0)\n",
    "vsego_dep_type['mean'] = (vsego_dep_type['immediate'] + vsego_dep_type['higher']) / 2\n",
    "\n",
    "# take into account only dependencies that have mean > 5  \n",
    "vsego_dep_type = vsego_dep_type[vsego_dep_type['mean'] > 5]\n"
   ]
  },
  {
   "cell_type": "markdown",
   "id": "9987ef63",
   "metadata": {},
   "source": [
    "We do the same for the other particles."
   ]
  },
  {
   "cell_type": "code",
   "execution_count": 144,
   "id": "8502b2b0",
   "metadata": {},
   "outputs": [],
   "source": [
    "imenno_dep_type = pd.DataFrame(data = {'immediate': [], 'higher': []})\n",
    "\n",
    "imenno_tags = set(imenno_df_updated['immediate_head_dep_type']).union(set(imenno_df_updated['higher_head_dep_type']))\n",
    "imenno_dep_type.set_index = list(imenno_tags)\n",
    "\n",
    "imenno_counts_imm = imenno_df_updated['immediate_head_dep_type'].value_counts()\n",
    "imenno_counts_hi = imenno_df_updated['higher_head_dep_type'].value_counts()\n",
    "\n",
    "for val in imenno_counts_imm.index.values: \n",
    "    imenno_dep_type.at[val, 'immediate'] = imenno_counts_imm[val]\n",
    "for val in imenno_counts_hi.index.values: \n",
    "    imenno_dep_type.at[val, 'higher'] = imenno_counts_hi[val]\n",
    "\n",
    "imenno_dep_type = imenno_dep_type.fillna(0)\n",
    "imenno_dep_type['mean'] = (imenno_dep_type['immediate'] + imenno_dep_type['higher']) / 2\n",
    "\n",
    "imenno_dep_type = imenno_dep_type[imenno_dep_type['mean'] > 5]"
   ]
  },
  {
   "cell_type": "code",
   "execution_count": 145,
   "id": "6aac5a77",
   "metadata": {},
   "outputs": [],
   "source": [
    "tolko_dep_type = pd.DataFrame(data = {'immediate': [], 'higher': []})\n",
    "\n",
    "tolko_tags = set(tolko_df_updated['immediate_head_dep_type']).union(set(tolko_df_updated['higher_head_dep_type']))\n",
    "tolko_dep_type.set_index = list(tolko_tags)\n",
    "\n",
    "tolko_counts_imm = tolko_df_updated['immediate_head_dep_type'].value_counts()\n",
    "tolko_counts_hi = tolko_df_updated['higher_head_dep_type'].value_counts()\n",
    "\n",
    "for val in tolko_counts_imm.index.values: \n",
    "    tolko_dep_type.at[val, 'immediate'] = tolko_counts_imm[val]\n",
    "for val in tolko_counts_hi.index.values: \n",
    "    tolko_dep_type.at[val, 'higher'] = tolko_counts_hi[val]\n",
    "    \n",
    "tolko_dep_type = tolko_dep_type.fillna(0)\n",
    "tolko_dep_type['mean'] = (tolko_dep_type['immediate'] + tolko_dep_type['higher']) / 2\n",
    "\n",
    "tolko_dep_type = tolko_dep_type[tolko_dep_type['mean'] > 5]"
   ]
  },
  {
   "cell_type": "code",
   "execution_count": 146,
   "id": "fff4507c",
   "metadata": {},
   "outputs": [],
   "source": [
    "lish_dep_type = pd.DataFrame(data = {'immediate': [], 'higher': []})\n",
    "\n",
    "lish_tags = set(lish_df_updated['immediate_head_dep_type']).union(set(lish_df_updated['higher_head_dep_type']))\n",
    "lish_dep_type.set_index = list(lish_tags)\n",
    "\n",
    "lish_counts_imm = lish_df_updated['immediate_head_dep_type'].value_counts()\n",
    "lish_counts_hi = lish_df_updated['higher_head_dep_type'].value_counts()\n",
    "\n",
    "for val in lish_counts_imm.index.values: \n",
    "    lish_dep_type.at[val, 'immediate'] = lish_counts_imm[val]\n",
    "for val in lish_counts_hi.index.values: \n",
    "    lish_dep_type.at[val, 'higher'] = lish_counts_hi[val] \n",
    "    \n",
    "lish_dep_type = lish_dep_type.fillna(0)\n",
    "lish_dep_type['mean'] = (lish_dep_type['immediate'] + lish_dep_type['higher']) / 2\n",
    "\n",
    "lish_dep_type = lish_dep_type[lish_dep_type['mean'] > 5]"
   ]
  },
  {
   "cell_type": "code",
   "execution_count": 147,
   "id": "9f5542bf",
   "metadata": {},
   "outputs": [],
   "source": [
    "# print(vsego_dep_type.head())\n",
    "# print(imenno_dep_type.head())\n",
    "# print(tolko_dep_type.head())\n",
    "# print(lish_dep_type.head())"
   ]
  },
  {
   "cell_type": "markdown",
   "id": "a0d165ac",
   "metadata": {},
   "source": [
    "Let's create some fancy heatmaps. "
   ]
  },
  {
   "cell_type": "code",
   "execution_count": 150,
   "id": "16defe09",
   "metadata": {},
   "outputs": [
    {
     "data": {
      "image/png": "[encoded data removed]",
      "text/plain": [
       "<Figure size 360x432 with 2 Axes>"
      ]
     },
     "metadata": {
      "needs_background": "light"
     },
     "output_type": "display_data"
    }
   ],
   "source": [
    "plt.rcParams['figure.figsize'] = [5, 6]\n",
    "\n",
    "data = vsego_dep_type.drop(columns='mean')\n",
    "sns.heatmap(data, annot=True, cmap=\"coolwarm\", linewidths=6, linecolor='white')\n",
    "\n",
    "plt.title('\\\"Всего\\\": assosiate dependency type', fontsize=15)\n",
    "plt.yticks(rotation=0)\n",
    "plt.xlabel(\"Type of assosiate\")\n",
    "plt.ylabel(\"Dependency type\")\n",
    "plt.show()"
   ]
  },
  {
   "cell_type": "code",
   "execution_count": 152,
   "id": "08bf0f50",
   "metadata": {},
   "outputs": [
    {
     "data": {
      "image/png": "[encoded data removed]",
      "text/plain": [
       "<Figure size 360x432 with 2 Axes>"
      ]
     },
     "metadata": {
      "needs_background": "light"
     },
     "output_type": "display_data"
    }
   ],
   "source": [
    "data = tolko_dep_type.drop(columns='mean')\n",
    "sns.heatmap(data, annot=True, cmap=\"coolwarm\", linewidths=6, linecolor='white')\n",
    "\n",
    "plt.title('\\\"Только\\\": assosiate dependency type', fontsize=15)\n",
    "plt.yticks(rotation=0)\n",
    "plt.xlabel(\"Type of assosiate\")\n",
    "plt.ylabel(\"Dependency type\")\n",
    "plt.show()"
   ]
  },
  {
   "cell_type": "code",
   "execution_count": 153,
   "id": "bec1de6c",
   "metadata": {},
   "outputs": [
    {
     "data": {
      "image/png": "[encoded data removed]",
      "text/plain": [
       "<Figure size 360x432 with 2 Axes>"
      ]
     },
     "metadata": {
      "needs_background": "light"
     },
     "output_type": "display_data"
    }
   ],
   "source": [
    "data = lish_dep_type.drop(columns='mean')\n",
    "sns.heatmap(data, annot=True, cmap=\"coolwarm\", linewidths=6, linecolor='white')\n",
    "\n",
    "plt.title('\\\"Лишь\\\": assosiate dependency type', fontsize=15)\n",
    "plt.yticks(rotation=0)\n",
    "plt.xlabel(\"Type of assosiate\")\n",
    "plt.ylabel(\"Dependency type\")\n",
    "plt.show()\n"
   ]
  },
  {
   "cell_type": "code",
   "execution_count": 154,
   "id": "c9f968b7",
   "metadata": {},
   "outputs": [
    {
     "data": {
      "image/png": "[encoded data removed]",
      "text/plain": [
       "<Figure size 360x432 with 2 Axes>"
      ]
     },
     "metadata": {
      "needs_background": "light"
     },
     "output_type": "display_data"
    }
   ],
   "source": [
    "data = imenno_dep_type.drop(columns='mean')\n",
    "sns.heatmap(data, annot=True, cmap=\"coolwarm\", linewidths=6, linecolor='white')\n",
    "\n",
    "plt.title('\\\"Именно\\\": assosiate dependency type', fontsize=15)\n",
    "plt.yticks(rotation=0)\n",
    "plt.xlabel(\"Type of assosiate\")\n",
    "plt.ylabel(\"Dependency type\")\n",
    "plt.show()\n"
   ]
  },
  {
   "cell_type": "markdown",
   "id": "c9cf1485",
   "metadata": {},
   "source": [
    "### 3.4. Interim summary\n",
    "\n",
    "\n",
    "|particle|POS preferrences |constituent size|dependency type preferrences |\n",
    "|:--|:--|:--|:--|\n",
    "|  всего\t|   NOUNs that are modified by NUMs; PRONs\t|   does not frequently attach to single-worded constituents |   numeral modifiers of **obl**, **nsubj** and (to a lesser extent) **obj** |\n",
    "|  только\t|  NOUNs, NUMs, and PRONs; VERBs are infrequent (compared to other particles); compatibility is roughly the same for immediate and higher heads\t|   single-worded as well as larger constituents\t| **cc** (conjuncts), **obl** |\n",
    "|  лишь   |  very frequent with NOUNs (both in terms of immediate and higher heads); combines with ADJs more readily than other particles; quite frequent with VERBs. \t|   does not frequently attach to single-worded constituents\t|    **obl**; modifiers of **obl**, **obj**, **nsubj**\t|\n",
    "|   именно\t|  Mostly, PRONs; probably, frequently occur on a clause boundary (SYM); VERBs are more frequent than with other particles\t|   single-worded as well as larger constituents\t\t|   tend to combine with **obl**; more frequent than others with **nsubj**; **det**\t|\n"
   ]
  },
  {
   "cell_type": "markdown",
   "id": "5305e941",
   "metadata": {},
   "source": [
    "## 4. Combinations of particles\n",
    "### 4.1. Data collection"
   ]
  },
  {
   "cell_type": "markdown",
   "id": "a549ba6b",
   "metadata": {},
   "source": [
    "Let's explore the ways in which the particles combine. \n",
    "\n",
    "The queries: <br>\n",
    "`vsego_tolko_url`  – word1: (всего|только), word2: (всего|только), distance: 1, additional1: -bmark <br>\n",
    "`vsego_imenno_url`  – word1: (всего|именно), word2: (всего|именно), distance: 1, additional1: -bmark <br>\n",
    "`vsego_lish_url`  – word1: (всего|лишь), word2: (всего|лишь), distance: 1, additional1: -bmark <br>\n",
    "`tolko_imenno_url`  – word1: (только|именно), word2: (именно|только), distance: 1, additional1: -bmark <br>\n",
    "`tolko_lish_url`  – word1: (только|лишь), word2: (только|лишь), distance: 1, additional1: -bmark  <br>\n",
    "`imenno_lish_url`  – word1: (именно|лишь), word2: (именно|лишь), distance: 1, additional1: -bmark\n",
    "\n",
    "The links:"
   ]
  },
  {
   "cell_type": "code",
   "execution_count": 260,
   "id": "4ba24dc2",
   "metadata": {},
   "outputs": [],
   "source": [
    "vsego_tolko_url = 'https://processing.ruscorpora.ru/search.xml?env=alpha&api=1.0&mycorp=&mysent=&mysize=&mysentsize=&dpp=&spp=&spd=&mydocsize=&mode=main&lang=ru&sort=i_grtagging&nodia=1&text=lexgramm&parent1=0&level1=0&lex1=%28%D0%B2%D1%81%D0%B5%D0%B3%D0%BE%7C%D1%82%D0%BE%D0%BB%D1%8C%D0%BA%D0%BE%29&gramm1=&sem1=&flags1=-bmark&sem-mod1=sem&sem-mod1=semx&parent2=0&level2=0&min2=1&max2=1&lex2=%28%D0%B2%D1%81%D0%B5%D0%B3%D0%BE%7C%D1%82%D0%BE%D0%BB%D1%8C%D0%BA%D0%BE%29&gramm2=&sem2=&flags2=&sem-mod2=sem&sem-mod2=semx'\n",
    "vsego_imenno_url = 'https://processing.ruscorpora.ru/search.xml?flags1=-bmark&lang=ru&level1=0&level2=0&lex1=%28%D0%B2%D1%81%D0%B5%D0%B3%D0%BE%7C%D0%B8%D0%BC%D0%B5%D0%BD%D0%BD%D0%BE%29&lex2=%28%D0%B2%D1%81%D0%B5%D0%B3%D0%BE%7C%D0%B8%D0%BC%D0%B5%D0%BD%D0%BD%D0%BE%29&max2=1&min2=1&mode=main&nodia=1&p=0&parent1=0&parent2=0&sem-mod1=sem&sem-mod1=semx&sem-mod2=sem&sem-mod2=semx&sort=i_grtagging&text=lexgramm'\n",
    "vsego_lish_url = 'https://processing.ruscorpora.ru/search.xml?env=alpha&api=1.0&mycorp=&mysent=&mysize=&mysentsize=&dpp=&spp=&spd=&mydocsize=&mode=main&lang=ru&sort=i_grtagging&nodia=1&text=lexgramm&parent1=0&level1=0&lex1=%28%D0%B2%D1%81%D0%B5%D0%B3%D0%BE%7C%D0%BB%D0%B8%D1%88%D1%8C%29&gramm1=&sem1=&flags1=-bmark&sem-mod1=sem&sem-mod1=semx&parent2=0&level2=0&min2=1&max2=1&lex2=%28%D0%B2%D1%81%D0%B5%D0%B3%D0%BE%7C%D0%BB%D0%B8%D1%88%D1%8C%29&gramm2=&sem2=&flags2=&sem-mod2=sem&sem-mod2=semx'\n",
    "\n",
    "tolko_imenno_url = 'https://processing.ruscorpora.ru/search.xml?env=alpha&api=1.0&mycorp=&mysent=&mysize=&mysentsize=&dpp=&spp=&spd=&mydocsize=&mode=main&lang=ru&sort=i_grtagging&nodia=1&text=lexgramm&parent1=0&level1=0&lex1=%28%D1%82%D0%BE%D0%BB%D1%8C%D0%BA%D0%BE%7C%D0%B8%D0%BC%D0%B5%D0%BD%D0%BD%D0%BE%29&gramm1=&sem1=&flags1=-bmark&sem-mod1=sem&sem-mod1=semx&parent2=0&level2=0&min2=1&max2=1&lex2=%28%D1%82%D0%BE%D0%BB%D1%8C%D0%BA%D0%BE%7C%D0%B8%D0%BC%D0%B5%D0%BD%D0%BD%D0%BE%29&gramm2=&sem2=&flags2=&sem-mod2=sem&sem-mod2=semx'\n",
    "tolko_lish_url = 'https://processing.ruscorpora.ru/search.xml?env=alpha&api=1.0&mycorp=&mysent=&mysize=&mysentsize=&dpp=&spp=&spd=&mydocsize=&mode=main&lang=ru&sort=i_grtagging&nodia=1&text=lexgramm&parent1=0&level1=0&lex1=%28%D1%82%D0%BE%D0%BB%D1%8C%D0%BA%D0%BE%7C%D0%BB%D0%B8%D1%88%D1%8C%29&gramm1=&sem1=&flags1=-bmark&sem-mod1=sem&sem-mod1=semx&morph1=&parent2=0&level2=0&min2=1&max2=1&lex2=%28%D1%82%D0%BE%D0%BB%D1%8C%D0%BA%D0%BE%7C%D0%BB%D0%B8%D1%88%D1%8C%29&gramm2=&sem2=&flags2=&sem-mod2=sem&sem-mod2=semx&morph2='\n",
    "imenno_lish_url = 'https://processing.ruscorpora.ru/search.xml?env=alpha&api=1.0&mycorp=&mysent=&mysize=&mysentsize=&dpp=&spp=&spd=&mydocsize=&mode=main&lang=ru&sort=i_grtagging&nodia=1&text=lexgramm&parent1=0&level1=0&lex1=%28%D0%BB%D0%B8%D1%88%D1%8C%7C%D0%B8%D0%BC%D0%B5%D0%BD%D0%BD%D0%BE%29&gramm1=&sem1=&flags1=-bmark&sem-mod1=sem&sem-mod1=semx&parent2=0&level2=0&min2=1&max2=1&lex2=%28%D0%BB%D0%B8%D1%88%D1%8C%7C%D0%B8%D0%BC%D0%B5%D0%BD%D0%BD%D0%BE%29&gramm2=&sem2=&flags2=&sem-mod2=sem&sem-mod2=semx'\n"
   ]
  },
  {
   "cell_type": "code",
   "execution_count": 252,
   "id": "b304beee",
   "metadata": {},
   "outputs": [
    {
     "name": "stderr",
     "output_type": "stream",
     "text": [
      "100%|█████████████████████████████████████████████| 5/5 [00:04<00:00,  1.15it/s]\n",
      "100%|█████████████████████████████████████████████| 5/5 [00:03<00:00,  1.39it/s]\n",
      "100%|█████████████████████████████████████████████| 5/5 [00:04<00:00,  1.12it/s]\n"
     ]
    }
   ],
   "source": [
    "vsego_tolko_df = pd.DataFrame()\n",
    "vsego_tolko_df = ruscorpora_extractor(5, vsego_tolko_url)\n",
    "\n",
    "vsego_imenno_df = pd.DataFrame()\n",
    "vsego_imenno_df = ruscorpora_extractor(5, vsego_imenno_url)\n",
    "\n",
    "vsego_lish_df = pd.DataFrame()\n",
    "vsego_lish_df = ruscorpora_extractor(5, vsego_lish_url)"
   ]
  },
  {
   "cell_type": "code",
   "execution_count": 263,
   "id": "d4bbe3ad",
   "metadata": {},
   "outputs": [
    {
     "data": {
      "text/plain": [
       "50"
      ]
     },
     "execution_count": 263,
     "metadata": {},
     "output_type": "execute_result"
    }
   ],
   "source": [
    "len(vsego_lish_df)"
   ]
  },
  {
   "cell_type": "code",
   "execution_count": 261,
   "id": "72408a3e",
   "metadata": {},
   "outputs": [
    {
     "name": "stderr",
     "output_type": "stream",
     "text": [
      "100%|█████████████████████████████████████████████| 5/5 [00:04<00:00,  1.16it/s]\n",
      "100%|█████████████████████████████████████████████| 5/5 [00:04<00:00,  1.07it/s]\n",
      " 80%|████████████████████████████████████         | 4/5 [00:03<00:00,  1.05it/s]\n"
     ]
    },
    {
     "ename": "AttributeError",
     "evalue": "'NoneType' object has no attribute 'find_all'",
     "output_type": "error",
     "traceback": [
      "\u001b[0;31m---------------------------------------------------------------------------\u001b[0m",
      "\u001b[0;31mAttributeError\u001b[0m                            Traceback (most recent call last)",
      "\u001b[0;32m/var/folders/r7/3p16zx8d24sfh5bhybvbj_hr0000gp/T/ipykernel_34660/3228013804.py\u001b[0m in \u001b[0;36m<module>\u001b[0;34m\u001b[0m\n\u001b[1;32m      6\u001b[0m \u001b[0;34m\u001b[0m\u001b[0m\n\u001b[1;32m      7\u001b[0m \u001b[0mimenno_lish_df\u001b[0m  \u001b[0;34m=\u001b[0m \u001b[0mpd\u001b[0m\u001b[0;34m.\u001b[0m\u001b[0mDataFrame\u001b[0m\u001b[0;34m(\u001b[0m\u001b[0;34m)\u001b[0m\u001b[0;34m\u001b[0m\u001b[0;34m\u001b[0m\u001b[0m\n\u001b[0;32m----> 8\u001b[0;31m \u001b[0mimenno_lish_df\u001b[0m  \u001b[0;34m=\u001b[0m \u001b[0mruscorpora_extractor\u001b[0m\u001b[0;34m(\u001b[0m\u001b[0;36m5\u001b[0m\u001b[0;34m,\u001b[0m \u001b[0mimenno_lish_url\u001b[0m\u001b[0;34m)\u001b[0m\u001b[0;34m\u001b[0m\u001b[0;34m\u001b[0m\u001b[0m\n\u001b[0m",
      "\u001b[0;32m/var/folders/r7/3p16zx8d24sfh5bhybvbj_hr0000gp/T/ipykernel_34660/1381458921.py\u001b[0m in \u001b[0;36mruscorpora_extractor\u001b[0;34m(pages_num, url)\u001b[0m\n\u001b[1;32m     18\u001b[0m \u001b[0;34m\u001b[0m\u001b[0m\n\u001b[1;32m     19\u001b[0m         \u001b[0;31m# navigating the page\u001b[0m\u001b[0;34m\u001b[0m\u001b[0;34m\u001b[0m\u001b[0;34m\u001b[0m\u001b[0m\n\u001b[0;32m---> 20\u001b[0;31m         \u001b[0mexample_doc\u001b[0m \u001b[0;34m=\u001b[0m \u001b[0msoup\u001b[0m\u001b[0;34m.\u001b[0m\u001b[0mfind\u001b[0m\u001b[0;34m(\u001b[0m\u001b[0;34m\"ol\"\u001b[0m\u001b[0;34m)\u001b[0m\u001b[0;34m.\u001b[0m\u001b[0mfind_all\u001b[0m\u001b[0;34m(\u001b[0m\u001b[0;34m'table'\u001b[0m\u001b[0;34m)\u001b[0m\u001b[0;34m\u001b[0m\u001b[0;34m\u001b[0m\u001b[0m\n\u001b[0m\u001b[1;32m     21\u001b[0m \u001b[0;34m\u001b[0m\u001b[0m\n\u001b[1;32m     22\u001b[0m         \u001b[0;31m# from each document take only one example\u001b[0m\u001b[0;34m\u001b[0m\u001b[0;34m\u001b[0m\u001b[0;34m\u001b[0m\u001b[0m\n",
      "\u001b[0;31mAttributeError\u001b[0m: 'NoneType' object has no attribute 'find_all'"
     ]
    }
   ],
   "source": [
    "tolko_imenno_df = pd.DataFrame()\n",
    "tolko_imenno_df = ruscorpora_extractor(5, tolko_imenno_url)\n",
    "\n",
    "tolko_lish_df = pd.DataFrame()\n",
    "tolko_lish_df = ruscorpora_extractor(5, tolko_lish_url)\n",
    "\n",
    "imenno_lish_df  = pd.DataFrame()\n",
    "imenno_lish_df  = ruscorpora_extractor(5, imenno_lish_url)"
   ]
  },
  {
   "cell_type": "markdown",
   "id": "d3e375fb",
   "metadata": {},
   "source": [
    "The last query seem to have less than 50 examples in the corpus. This means both combinations 'именно лишь' and 'лишь именно' are very infrequent. We will thus omit them from the  consideration. "
   ]
  },
  {
   "cell_type": "code",
   "execution_count": 264,
   "id": "78fb2d8e",
   "metadata": {},
   "outputs": [
    {
     "data": {
      "text/plain": [
       "50"
      ]
     },
     "execution_count": 264,
     "metadata": {},
     "output_type": "execute_result"
    }
   ],
   "source": [
    "len(tolko_lish_df)"
   ]
  },
  {
   "cell_type": "markdown",
   "id": "4d4d45f6",
   "metadata": {},
   "source": [
    "### 4.2. Data annotation"
   ]
  },
  {
   "cell_type": "markdown",
   "id": "f5b448ce",
   "metadata": {},
   "source": [
    "Let's add some annotation to the data.\n",
    "Below is the function that adds  particle order (`ptcl_order`) and combination instance (`combination`) into a dataframe. "
   ]
  },
  {
   "cell_type": "code",
   "execution_count": 265,
   "id": "47b246c5",
   "metadata": {},
   "outputs": [],
   "source": [
    "def collect_combo_data(df, comboparts): \n",
    "    \n",
    "    ptcl_order = []\n",
    "    ptcl_order_1 = ' '.join([comboparts[0], comboparts[1]])\n",
    "    ptcl_order_2 = ' '.join([comboparts[1], comboparts[0]])\n",
    "    \n",
    "    for ex in df['text']:\n",
    "        ex_lowered = ex.lower()\n",
    "    \n",
    "        if ptcl_order_1 in ex_lowered:\n",
    "            ptcl_order.append('-'.join([comboparts[0], comboparts[1]]))\n",
    "        elif ptcl_order_2 in ex_lowered:\n",
    "            ptcl_order.append('-'.join([comboparts[1], comboparts[0]]))\n",
    "        else: \n",
    "            ptcl_order.append('n/a')\n",
    "            \n",
    "    df[\"ptcl_order\"] = ptcl_order  \n",
    "    df[\"combination\"] = ''.join([comboparts[0], comboparts[1]])\n",
    "    df = df[df[\"ptcl_order\"] != 'n/a']\n",
    "    return df"
   ]
  },
  {
   "cell_type": "code",
   "execution_count": 266,
   "id": "1ad47ff2",
   "metadata": {},
   "outputs": [],
   "source": [
    "vt_combo = ['всего' , 'только']\n",
    "vi_combo = ['всего' , 'именно']\n",
    "vl_combo = ['всего' , 'лишь']\n",
    "ti_combo = ['только' , 'именно']\n",
    "tl_combo = ['только' , 'лишь']\n",
    "\n",
    "vsego_tolko_df2 = collect_combo_data(vsego_tolko_df, vt_combo)\n",
    "vsego_imenno_df2 = collect_combo_data(vsego_imenno_df, vi_combo)\n",
    "vsego_lish_df2 = collect_combo_data(vsego_lish_df, vl_combo)\n",
    "tolko_imenno_df2 = collect_combo_data(tolko_imenno_df, ti_combo)\n",
    "tolko_lish_df2 = collect_combo_data(tolko_lish_df, tl_combo)"
   ]
  },
  {
   "cell_type": "code",
   "execution_count": 515,
   "id": "1697131a",
   "metadata": {
    "scrolled": true
   },
   "outputs": [
    {
     "data": {
      "text/html": [
       "<div>\n",
       "<style scoped>\n",
       "    .dataframe tbody tr th:only-of-type {\n",
       "        vertical-align: middle;\n",
       "    }\n",
       "\n",
       "    .dataframe tbody tr th {\n",
       "        vertical-align: top;\n",
       "    }\n",
       "\n",
       "    .dataframe thead th {\n",
       "        text-align: right;\n",
       "    }\n",
       "</style>\n",
       "<table border=\"1\" class=\"dataframe\">\n",
       "  <thead>\n",
       "    <tr style=\"text-align: right;\">\n",
       "      <th></th>\n",
       "      <th>text</th>\n",
       "      <th>ptcl_order</th>\n",
       "      <th>combination</th>\n",
       "    </tr>\n",
       "  </thead>\n",
       "  <tbody>\n",
       "    <tr>\n",
       "      <th>0</th>\n",
       "      <td>Да вот только именно до сделки мы никак не мог...</td>\n",
       "      <td>только-именно</td>\n",
       "      <td>толькоименно</td>\n",
       "    </tr>\n",
       "    <tr>\n",
       "      <th>1</th>\n",
       "      <td>Может быть, заболеть?» ― подумалось ей, но име...</td>\n",
       "      <td>именно-только</td>\n",
       "      <td>толькоименно</td>\n",
       "    </tr>\n",
       "    <tr>\n",
       "      <th>2</th>\n",
       "      <td>Войцик поднял голову и тускло, даже не узнавая...</td>\n",
       "      <td>именно-только</td>\n",
       "      <td>толькоименно</td>\n",
       "    </tr>\n",
       "    <tr>\n",
       "      <th>3</th>\n",
       "      <td>Вероятнее всего то, что красавица эта не была ...</td>\n",
       "      <td>именно-только</td>\n",
       "      <td>толькоименно</td>\n",
       "    </tr>\n",
       "    <tr>\n",
       "      <th>4</th>\n",
       "      <td>Именно только с этой стороны королевская проку...</td>\n",
       "      <td>именно-только</td>\n",
       "      <td>толькоименно</td>\n",
       "    </tr>\n",
       "    <tr>\n",
       "      <th>5</th>\n",
       "      <td>Но наука, изучающая закономерности именно толь...</td>\n",
       "      <td>именно-только</td>\n",
       "      <td>толькоименно</td>\n",
       "    </tr>\n",
       "    <tr>\n",
       "      <th>6</th>\n",
       "      <td>Они являются здесь пред нами именно только сви...</td>\n",
       "      <td>именно-только</td>\n",
       "      <td>толькоименно</td>\n",
       "    </tr>\n",
       "    <tr>\n",
       "      <th>7</th>\n",
       "      <td>Именно только сегодня об этом узнал я.</td>\n",
       "      <td>именно-только</td>\n",
       "      <td>толькоименно</td>\n",
       "    </tr>\n",
       "    <tr>\n",
       "      <th>8</th>\n",
       "      <td>Но этот список относится именно только к перво...</td>\n",
       "      <td>именно-только</td>\n",
       "      <td>толькоименно</td>\n",
       "    </tr>\n",
       "    <tr>\n",
       "      <th>9</th>\n",
       "      <td>Да и незачем ей быть теперь никакой другой, ей...</td>\n",
       "      <td>именно-только</td>\n",
       "      <td>толькоименно</td>\n",
       "    </tr>\n",
       "  </tbody>\n",
       "</table>\n",
       "</div>"
      ],
      "text/plain": [
       "                                                text     ptcl_order  \\\n",
       "0  Да вот только именно до сделки мы никак не мог...  только-именно   \n",
       "1  Может быть, заболеть?» ― подумалось ей, но име...  именно-только   \n",
       "2  Войцик поднял голову и тускло, даже не узнавая...  именно-только   \n",
       "3  Вероятнее всего то, что красавица эта не была ...  именно-только   \n",
       "4  Именно только с этой стороны королевская проку...  именно-только   \n",
       "5  Но наука, изучающая закономерности именно толь...  именно-только   \n",
       "6  Они являются здесь пред нами именно только сви...  именно-только   \n",
       "7             Именно только сегодня об этом узнал я.  именно-только   \n",
       "8  Но этот список относится именно только к перво...  именно-только   \n",
       "9  Да и незачем ей быть теперь никакой другой, ей...  именно-только   \n",
       "\n",
       "    combination  \n",
       "0  толькоименно  \n",
       "1  толькоименно  \n",
       "2  толькоименно  \n",
       "3  толькоименно  \n",
       "4  толькоименно  \n",
       "5  толькоименно  \n",
       "6  толькоименно  \n",
       "7  толькоименно  \n",
       "8  толькоименно  \n",
       "9  толькоименно  "
      ]
     },
     "execution_count": 515,
     "metadata": {},
     "output_type": "execute_result"
    }
   ],
   "source": [
    "tolko_imenno_df2.head(10)"
   ]
  },
  {
   "cell_type": "markdown",
   "id": "c2efbac1",
   "metadata": {},
   "source": [
    "### 4.3. Visualization\n",
    "\n",
    "#### 4.3.1. Frequencies of combinations"
   ]
  },
  {
   "cell_type": "markdown",
   "id": "940c60c5",
   "metadata": {},
   "source": [
    "Now let us visualize the data with pywaffle. For each pair of particles, we want to compare which one of the possible combinations is more frequent. We are going to do it with `pywaffle`."
   ]
  },
  {
   "cell_type": "code",
   "execution_count": 163,
   "id": "0113a4be",
   "metadata": {},
   "outputs": [
    {
     "name": "stdout",
     "output_type": "stream",
     "text": [
      "Requirement already satisfied: pywaffle in /Library/Frameworks/Python.framework/Versions/3.9/lib/python3.9/site-packages (0.6.3)\n",
      "Requirement already satisfied: matplotlib in /Library/Frameworks/Python.framework/Versions/3.9/lib/python3.9/site-packages (from pywaffle) (3.4.3)\n",
      "Requirement already satisfied: cycler>=0.10 in /Library/Frameworks/Python.framework/Versions/3.9/lib/python3.9/site-packages (from matplotlib->pywaffle) (0.10.0)\n",
      "Requirement already satisfied: kiwisolver>=1.0.1 in /Library/Frameworks/Python.framework/Versions/3.9/lib/python3.9/site-packages (from matplotlib->pywaffle) (1.3.2)\n",
      "Requirement already satisfied: python-dateutil>=2.7 in /Library/Frameworks/Python.framework/Versions/3.9/lib/python3.9/site-packages (from matplotlib->pywaffle) (2.8.1)\n",
      "Requirement already satisfied: pyparsing>=2.2.1 in /Library/Frameworks/Python.framework/Versions/3.9/lib/python3.9/site-packages (from matplotlib->pywaffle) (2.4.7)\n",
      "Requirement already satisfied: numpy>=1.16 in /Library/Frameworks/Python.framework/Versions/3.9/lib/python3.9/site-packages (from matplotlib->pywaffle) (1.21.0)\n",
      "Requirement already satisfied: pillow>=6.2.0 in /Library/Frameworks/Python.framework/Versions/3.9/lib/python3.9/site-packages (from matplotlib->pywaffle) (8.3.2)\n",
      "Requirement already satisfied: six in /Library/Frameworks/Python.framework/Versions/3.9/lib/python3.9/site-packages (from cycler>=0.10->matplotlib->pywaffle) (1.16.0)\n",
      "\u001b[33mWARNING: You are using pip version 21.3.1; however, version 22.0.3 is available.\n",
      "You should consider upgrading via the '/Library/Frameworks/Python.framework/Versions/3.9/bin/python3.9 -m pip install --upgrade pip' command.\u001b[0m\n"
     ]
    }
   ],
   "source": [
    "!pip install pywaffle"
   ]
  },
  {
   "cell_type": "code",
   "execution_count": 517,
   "id": "99c23551",
   "metadata": {},
   "outputs": [],
   "source": [
    "from pywaffle import Waffle\n",
    "\n",
    "# this function draws a waffle figure  \n",
    "def show_waffle(data, comboparts): \n",
    "    data = data\n",
    "    counts = data['ptcl_order'].value_counts()\n",
    "    \n",
    "    combo1 = '-'.join([comboparts[0], comboparts[1]])\n",
    "    combo2 = '-'.join([comboparts[1], comboparts[0]])\n",
    "    try:\n",
    "        value1 = counts[combo1]\n",
    "    except KeyError: \n",
    "        value1 = 0\n",
    "    \n",
    "    try:\n",
    "        value2 = counts[combo2]\n",
    "    except KeyError: \n",
    "        value2 = 0\n",
    "        \n",
    "    fig = plt.figure(\n",
    "        FigureClass=Waffle, \n",
    "        rows=5, \n",
    "        columns=10, \n",
    "        values=[value1, value2],\n",
    "        figsize=(5, 3),\n",
    "        labels= [combo1, combo2],\n",
    "        legend={'loc': 'lower left', 'bbox_to_anchor': (0, -0.2), 'ncol': len(data), 'framealpha': 0},\n",
    "    )\n",
    "    \n",
    "    plt.show()"
   ]
  },
  {
   "cell_type": "code",
   "execution_count": 166,
   "id": "eaa04bde",
   "metadata": {},
   "outputs": [
    {
     "data": {
      "image/png": "[encoded data removed]",
      "text/plain": [
       "<Waffle size 360x216 with 1 Axes>"
      ]
     },
     "metadata": {
      "needs_background": "light"
     },
     "output_type": "display_data"
    },
    {
     "data": {
      "image/png": "[encoded data removed]",
      "text/plain": [
       "<Waffle size 360x216 with 1 Axes>"
      ]
     },
     "metadata": {
      "needs_background": "light"
     },
     "output_type": "display_data"
    },
    {
     "data": {
      "image/png": "[encoded data removed]",
      "text/plain": [
       "<Waffle size 360x216 with 1 Axes>"
      ]
     },
     "metadata": {
      "needs_background": "light"
     },
     "output_type": "display_data"
    }
   ],
   "source": [
    "show_waffle(vsego_tolko_df2, vt_combo)\n",
    "show_waffle(vsego_imenno_df2, vi_combo)\n",
    "show_waffle(vsego_lish_df2, vl_combo)"
   ]
  },
  {
   "cell_type": "code",
   "execution_count": 167,
   "id": "9b9d4938",
   "metadata": {},
   "outputs": [
    {
     "data": {
      "image/png": "[encoded data removed]",
      "text/plain": [
       "<Waffle size 360x216 with 1 Axes>"
      ]
     },
     "metadata": {
      "needs_background": "light"
     },
     "output_type": "display_data"
    },
    {
     "data": {
      "image/png": "[encoded data removed]",
      "text/plain": [
       "<Waffle size 360x216 with 1 Axes>"
      ]
     },
     "metadata": {
      "needs_background": "light"
     },
     "output_type": "display_data"
    }
   ],
   "source": [
    "show_waffle(tolko_imenno_df2, ti_combo)\n",
    "show_waffle(tolko_lish_df2, tl_combo)"
   ]
  },
  {
   "cell_type": "markdown",
   "id": "ef76d7bb",
   "metadata": {},
   "source": [
    "Some observations: \n",
    "* Not all combinations are equally frequent; some do not exist at all. For instance, the particle \"всего\" can precede \"лишь\" and \"именно\", but the reverse orders are not possible. Both \"всего только\" and \"только всего\" are possible, but the former version is again much more frequent."
   ]
  },
  {
   "cell_type": "markdown",
   "id": "bc7e3230",
   "metadata": {},
   "source": [
    "#### 4.3.2. POS prefferences of combinations of particles\n",
    "\n",
    "Let's have a look at our combinations of particles. The following particle orders are possible: <br>\n",
    "всего-только, <br>\n",
    "только-всего, <br>\n",
    "всего-именно, <br>\n",
    "всего-лишь, <br>\n",
    "только-именно, <br>\n",
    "именно-только, <br>\n",
    "только-лишь, <br>\n",
    "лишь-только. \n",
    "\n",
    "We are interested in their preferences regarding POS in comparison to the corresponding standalone particles. \n",
    "\n",
    "Let's modify a function that gets info from SpaCy a bit, so it can work with two-worded expressions. "
   ]
  },
  {
   "cell_type": "code",
   "execution_count": 518,
   "id": "8b71753e",
   "metadata": {},
   "outputs": [],
   "source": [
    "import nltk\n",
    "\n",
    "def collect_combination_info(spacy_model, txt, combo): \n",
    "    d_ru = spacy_model(txt)\n",
    "    combo1 = ' '.join([combo[0], combo[1]])\n",
    "    combo2 = ' '.join([combo[1], combo[0]])\n",
    "    \n",
    "    for bigram in nltk.ngrams(d_ru, 2):\n",
    "        bigram_str = ' '.join([bigram[0].text, bigram[1].text])\n",
    "        if bigram_str.lower() == combo1 or bigram_str.lower() == combo2:\n",
    "            bigram_rindex = bigram[1].i\n",
    "            \n",
    "            immed_head = d_ru[bigram_rindex+1]\n",
    "            higher_head = d_ru[bigram_rindex+1]\n",
    "            \n",
    "            while is_modifier(higher_head.dep_) != False:\n",
    "                higher_head = higher_head.head\n",
    "            \n",
    "            if higher_head.dep_ == \"ROOT\": \n",
    "                subtree_list = [immed_head.head.text]\n",
    "                \n",
    "            else:\n",
    "                subtree = higher_head.subtree\n",
    "                subtree_list = []\n",
    "                for t in subtree: \n",
    "                    if t.text not in combo1 or t.text not in combo2:\n",
    "                        subtree_list.append(t.text)\n",
    "            \n",
    "            head_dict = {\n",
    "                    \"ptcl_order\" : bigram_str.lower(),\n",
    "                    \"combination\" : ''.join([combo[0], combo[1]]),\n",
    "                    \"last_ptcl_dep_type\" : bigram[1].dep_,\n",
    "\n",
    "                    \"immediate_head_text\" : immed_head.text,\n",
    "                    \"immediate_head_pos\" : immed_head.pos_, \n",
    "                    \"immediate_head_dep_type\" : immed_head.dep_,\n",
    "\n",
    "                    \"higher_head_text\" : higher_head.text,\n",
    "                    \"higher_head_pos\" : higher_head.pos_, \n",
    "                    \"higher_head_dep_type\" : higher_head.dep_, \n",
    "\n",
    "                    \"assosiate_phrase\" : ' '.join(subtree_list),\n",
    "                    \"assosiate_phrase_n\" : len(subtree_list)\n",
    "            }\n",
    "            break \n",
    "        \n",
    "    return head_dict"
   ]
  },
  {
   "cell_type": "markdown",
   "id": "35acb2d3",
   "metadata": {},
   "source": [
    "Let's try it on some examples."
   ]
  },
  {
   "cell_type": "code",
   "execution_count": 269,
   "id": "b260e61f",
   "metadata": {},
   "outputs": [],
   "source": [
    "ex_txt1 = 'Осталось только лишь определить: какой из двух государственных интересов для России важнее.'\n",
    "ex_txt2 = 'В современных условиях стало очевидным, что нельзя ограничиваться только лишь подготовкой учительских кадров.'\n",
    "ex_txt3 = 'Но он уже не был Лениным, а только лишь тогдашним Вяхиревым, министром всего советского газа.'\n",
    "ex_txt4 = 'Чиханов клянётся заплатить, лишь только будут у него деньги.'"
   ]
  },
  {
   "cell_type": "code",
   "execution_count": 175,
   "id": "281e1d98",
   "metadata": {},
   "outputs": [],
   "source": [
    "# collect_combination_info(nlp_ru, ex_txt1, ['лишь', 'только'])\n",
    "# collect_combination_info(nlp_ru, ex_txt2, ['лишь', 'только'])\n",
    "# collect_combination_info(nlp_ru, ex_txt3, ['лишь', 'только'])\n",
    "# collect_combination_info(nlp_ru, ex_txt4, ['лишь', 'только'])"
   ]
  },
  {
   "cell_type": "markdown",
   "id": "b1873cfa",
   "metadata": {},
   "source": [
    "It works well. Now let's create one common data frame with all particle combinations and enrich it with SpaCy data. "
   ]
  },
  {
   "cell_type": "code",
   "execution_count": 520,
   "id": "caaae3af",
   "metadata": {},
   "outputs": [],
   "source": [
    "combo_df = pd.DataFrame(data = {})\n",
    "\n",
    "ptcl_dict = {'vsego_tolko': [vsego_tolko_df2, vt_combo],\n",
    "             'vsego_imenno': [vsego_imenno_df2, vi_combo],\n",
    "             'vsego_lish': [vsego_lish_df2, vl_combo],\n",
    "             'tolko_imenno': [tolko_imenno_df2, ti_combo],\n",
    "             'tolko_lish': [tolko_lish_df2, tl_combo]\n",
    "            }\n",
    "\n",
    "for val in ptcl_dict.values(): \n",
    "    \n",
    "    df = val[0]\n",
    "    combo = val[1]\n",
    "    \n",
    "    df_upd = pd.DataFrame()\n",
    "    for txt in df['text']: \n",
    "        txt = txt.split('\\n')[0]\n",
    "        txt_info_dict = collect_combination_info(nlp_ru, txt, combo)\n",
    "        df_upd = df_upd.append(txt_info_dict, ignore_index = True)\n",
    "\n",
    "    combo_df = combo_df.append(df_upd)"
   ]
  },
  {
   "cell_type": "code",
   "execution_count": 508,
   "id": "7e41547b",
   "metadata": {},
   "outputs": [
    {
     "data": {
      "text/html": [
       "<div>\n",
       "<style scoped>\n",
       "    .dataframe tbody tr th:only-of-type {\n",
       "        vertical-align: middle;\n",
       "    }\n",
       "\n",
       "    .dataframe tbody tr th {\n",
       "        vertical-align: top;\n",
       "    }\n",
       "\n",
       "    .dataframe thead th {\n",
       "        text-align: right;\n",
       "    }\n",
       "</style>\n",
       "<table border=\"1\" class=\"dataframe\">\n",
       "  <thead>\n",
       "    <tr style=\"text-align: right;\">\n",
       "      <th></th>\n",
       "      <th>ptcl_order</th>\n",
       "      <th>combination</th>\n",
       "      <th>last_ptcl_dep_type</th>\n",
       "      <th>immediate_head_text</th>\n",
       "      <th>immediate_head_pos</th>\n",
       "      <th>immediate_head_dep_type</th>\n",
       "      <th>higher_head_text</th>\n",
       "      <th>higher_head_pos</th>\n",
       "      <th>higher_head_dep_type</th>\n",
       "      <th>assosiate_phrase</th>\n",
       "      <th>assosiate_phrase_n</th>\n",
       "    </tr>\n",
       "  </thead>\n",
       "  <tbody>\n",
       "    <tr>\n",
       "      <th>0</th>\n",
       "      <td>всего только</td>\n",
       "      <td>всеготолько</td>\n",
       "      <td>advmod</td>\n",
       "      <td>было</td>\n",
       "      <td>AUX</td>\n",
       "      <td>cop</td>\n",
       "      <td>было</td>\n",
       "      <td>AUX</td>\n",
       "      <td>cop</td>\n",
       "      <td>Всего было</td>\n",
       "      <td>2.0</td>\n",
       "    </tr>\n",
       "    <tr>\n",
       "      <th>1</th>\n",
       "      <td>всего только</td>\n",
       "      <td>всеготолько</td>\n",
       "      <td>advmod</td>\n",
       "      <td>на</td>\n",
       "      <td>ADP</td>\n",
       "      <td>case</td>\n",
       "      <td>на</td>\n",
       "      <td>ADP</td>\n",
       "      <td>case</td>\n",
       "      <td>на</td>\n",
       "      <td>1.0</td>\n",
       "    </tr>\n",
       "    <tr>\n",
       "      <th>2</th>\n",
       "      <td>всего только</td>\n",
       "      <td>всеготолько</td>\n",
       "      <td>fixed</td>\n",
       "      <td>…</td>\n",
       "      <td>PUNCT</td>\n",
       "      <td>punct</td>\n",
       "      <td>…</td>\n",
       "      <td>PUNCT</td>\n",
       "      <td>punct</td>\n",
       "      <td>строгий какой , а самому …</td>\n",
       "      <td>6.0</td>\n",
       "    </tr>\n",
       "    <tr>\n",
       "      <th>3</th>\n",
       "      <td>всего только</td>\n",
       "      <td>всеготолько</td>\n",
       "      <td>advmod</td>\n",
       "      <td>шесть</td>\n",
       "      <td>NUM</td>\n",
       "      <td>nummod:gov</td>\n",
       "      <td>лет</td>\n",
       "      <td>NOUN</td>\n",
       "      <td>obl</td>\n",
       "      <td>шесть лет</td>\n",
       "      <td>2.0</td>\n",
       "    </tr>\n",
       "    <tr>\n",
       "      <th>4</th>\n",
       "      <td>всего только</td>\n",
       "      <td>всеготолько</td>\n",
       "      <td>advmod</td>\n",
       "      <td>через</td>\n",
       "      <td>ADP</td>\n",
       "      <td>case</td>\n",
       "      <td>через</td>\n",
       "      <td>ADP</td>\n",
       "      <td>case</td>\n",
       "      <td>через</td>\n",
       "      <td>1.0</td>\n",
       "    </tr>\n",
       "    <tr>\n",
       "      <th>5</th>\n",
       "      <td>всего только</td>\n",
       "      <td>всеготолько</td>\n",
       "      <td>advmod</td>\n",
       "      <td>пятнадцать</td>\n",
       "      <td>NUM</td>\n",
       "      <td>csubj</td>\n",
       "      <td>пятнадцать</td>\n",
       "      <td>NUM</td>\n",
       "      <td>csubj</td>\n",
       "      <td>Всего пятнадцать тысяч</td>\n",
       "      <td>3.0</td>\n",
       "    </tr>\n",
       "    <tr>\n",
       "      <th>6</th>\n",
       "      <td>только всего</td>\n",
       "      <td>всеготолько</td>\n",
       "      <td>ROOT</td>\n",
       "      <td>:</td>\n",
       "      <td>PUNCT</td>\n",
       "      <td>punct</td>\n",
       "      <td>:</td>\n",
       "      <td>PUNCT</td>\n",
       "      <td>punct</td>\n",
       "      <td>:</td>\n",
       "      <td>1.0</td>\n",
       "    </tr>\n",
       "    <tr>\n",
       "      <th>7</th>\n",
       "      <td>всего только</td>\n",
       "      <td>всеготолько</td>\n",
       "      <td>advmod</td>\n",
       "      <td>на</td>\n",
       "      <td>ADP</td>\n",
       "      <td>case</td>\n",
       "      <td>на</td>\n",
       "      <td>ADP</td>\n",
       "      <td>case</td>\n",
       "      <td>на</td>\n",
       "      <td>1.0</td>\n",
       "    </tr>\n",
       "    <tr>\n",
       "      <th>8</th>\n",
       "      <td>всего только</td>\n",
       "      <td>всеготолько</td>\n",
       "      <td>fixed</td>\n",
       "      <td>разочек</td>\n",
       "      <td>NOUN</td>\n",
       "      <td>obj</td>\n",
       "      <td>разочек</td>\n",
       "      <td>NOUN</td>\n",
       "      <td>obj</td>\n",
       "      <td>разочек</td>\n",
       "      <td>1.0</td>\n",
       "    </tr>\n",
       "    <tr>\n",
       "      <th>9</th>\n",
       "      <td>всего только</td>\n",
       "      <td>всеготолько</td>\n",
       "      <td>fixed</td>\n",
       "      <td>трёх</td>\n",
       "      <td>NOUN</td>\n",
       "      <td>iobj</td>\n",
       "      <td>трёх</td>\n",
       "      <td>NOUN</td>\n",
       "      <td>iobj</td>\n",
       "      <td>трёх постояльцев , из которых , при переезде н...</td>\n",
       "      <td>30.0</td>\n",
       "    </tr>\n",
       "  </tbody>\n",
       "</table>\n",
       "</div>"
      ],
      "text/plain": [
       "     ptcl_order  combination last_ptcl_dep_type immediate_head_text  \\\n",
       "0  всего только  всеготолько             advmod                было   \n",
       "1  всего только  всеготолько             advmod                  на   \n",
       "2  всего только  всеготолько              fixed                   …   \n",
       "3  всего только  всеготолько             advmod               шесть   \n",
       "4  всего только  всеготолько             advmod               через   \n",
       "5  всего только  всеготолько             advmod          пятнадцать   \n",
       "6  только всего  всеготолько               ROOT                   :   \n",
       "7  всего только  всеготолько             advmod                  на   \n",
       "8  всего только  всеготолько              fixed             разочек   \n",
       "9  всего только  всеготолько              fixed                трёх   \n",
       "\n",
       "  immediate_head_pos immediate_head_dep_type higher_head_text higher_head_pos  \\\n",
       "0                AUX                     cop             было             AUX   \n",
       "1                ADP                    case               на             ADP   \n",
       "2              PUNCT                   punct                …           PUNCT   \n",
       "3                NUM              nummod:gov              лет            NOUN   \n",
       "4                ADP                    case            через             ADP   \n",
       "5                NUM                   csubj       пятнадцать             NUM   \n",
       "6              PUNCT                   punct                :           PUNCT   \n",
       "7                ADP                    case               на             ADP   \n",
       "8               NOUN                     obj          разочек            NOUN   \n",
       "9               NOUN                    iobj             трёх            NOUN   \n",
       "\n",
       "  higher_head_dep_type                                   assosiate_phrase  \\\n",
       "0                  cop                                         Всего было   \n",
       "1                 case                                                 на   \n",
       "2                punct                         строгий какой , а самому …   \n",
       "3                  obl                                          шесть лет   \n",
       "4                 case                                              через   \n",
       "5                csubj                             Всего пятнадцать тысяч   \n",
       "6                punct                                                  :   \n",
       "7                 case                                                 на   \n",
       "8                  obj                                            разочек   \n",
       "9                 iobj  трёх постояльцев , из которых , при переезде н...   \n",
       "\n",
       "   assosiate_phrase_n  \n",
       "0                 2.0  \n",
       "1                 1.0  \n",
       "2                 6.0  \n",
       "3                 2.0  \n",
       "4                 1.0  \n",
       "5                 3.0  \n",
       "6                 1.0  \n",
       "7                 1.0  \n",
       "8                 1.0  \n",
       "9                30.0  "
      ]
     },
     "execution_count": 508,
     "metadata": {},
     "output_type": "execute_result"
    }
   ],
   "source": [
    "combo_df.head(10)"
   ]
  },
  {
   "cell_type": "markdown",
   "id": "76227c14",
   "metadata": {},
   "source": [
    "Let's analyze the data on POS preferences based on numbers from this table."
   ]
  },
  {
   "cell_type": "code",
   "execution_count": 513,
   "id": "f371fd87",
   "metadata": {},
   "outputs": [
    {
     "data": {
      "text/plain": [
       "ptcl_order   immediate_head_pos\n",
       "лишь только  NOUN                  7\n",
       "             VERB                  6\n",
       "             PRON                  4\n",
       "             ADP                   2\n",
       "             ADJ                   1\n",
       "             ADV                   1\n",
       "             AUX                   1\n",
       "             DET                   1\n",
       "             NUM                   1\n",
       "             PROPN                 1\n",
       "только лишь  VERB                  9\n",
       "             NOUN                  7\n",
       "             ADP                   3\n",
       "             ADJ                   2\n",
       "             PROPN                 2\n",
       "             ADV                   1\n",
       "             NUM                   1\n",
       "Name: immediate_head_pos, dtype: int64"
      ]
     },
     "execution_count": 513,
     "metadata": {},
     "output_type": "execute_result"
    }
   ],
   "source": [
    "combo_df[combo_df['combination']==\"тольколишь\"].groupby('ptcl_order')['immediate_head_pos'].value_counts()"
   ]
  },
  {
   "cell_type": "code",
   "execution_count": 492,
   "id": "6464d361",
   "metadata": {},
   "outputs": [
    {
     "data": {
      "text/plain": [
       "ptcl_order     immediate_head_pos\n",
       "именно только  ADP                   7\n",
       "               NOUN                  5\n",
       "               VERB                  5\n",
       "               ADJ                   4\n",
       "               PRON                  3\n",
       "               ADV                   1\n",
       "               DET                   1\n",
       "только именно  ADP                   8\n",
       "               ADV                   2\n",
       "               DET                   2\n",
       "               NOUN                  2\n",
       "               ADJ                   1\n",
       "               VERB                  1\n",
       "Name: immediate_head_pos, dtype: int64"
      ]
     },
     "execution_count": 492,
     "metadata": {},
     "output_type": "execute_result"
    }
   ],
   "source": [
    "combo_df[combo_df['combination']==\"толькоименно\"].groupby('ptcl_order')['immediate_head_pos'].value_counts()"
   ]
  },
  {
   "cell_type": "code",
   "execution_count": 491,
   "id": "95c9c08b",
   "metadata": {},
   "outputs": [
    {
     "data": {
      "text/plain": [
       "ptcl_order    immediate_head_pos\n",
       "всего только  NUM                   14\n",
       "              NOUN                   9\n",
       "              ADP                    5\n",
       "              VERB                   5\n",
       "              ADJ                    2\n",
       "              AUX                    2\n",
       "              PUNCT                  2\n",
       "              ADV                    1\n",
       "              PROPN                  1\n",
       "только всего  NOUN                   2\n",
       "              PUNCT                  2\n",
       "              NUM                    1\n",
       "              PART                   1\n",
       "Name: immediate_head_pos, dtype: int64"
      ]
     },
     "execution_count": 491,
     "metadata": {},
     "output_type": "execute_result"
    }
   ],
   "source": [
    "combo_df[combo_df['combination']==\"всеготолько\"].groupby('ptcl_order')['immediate_head_pos'].value_counts()\n"
   ]
  },
  {
   "cell_type": "code",
   "execution_count": 493,
   "id": "159fbb57",
   "metadata": {},
   "outputs": [
    {
     "data": {
      "text/plain": [
       "ptcl_order  immediate_head_pos\n",
       "всего лишь  NUM                   12\n",
       "            NOUN                  11\n",
       "            ADJ                    7\n",
       "            ADP                    6\n",
       "            VERB                   6\n",
       "            ADV                    4\n",
       "            DET                    1\n",
       "            PROPN                  1\n",
       "            PUNCT                  1\n",
       "            SCONJ                  1\n",
       "Name: immediate_head_pos, dtype: int64"
      ]
     },
     "execution_count": 493,
     "metadata": {},
     "output_type": "execute_result"
    }
   ],
   "source": [
    "combo_df[combo_df['combination']==\"всеголишь\"].groupby('ptcl_order')['immediate_head_pos'].value_counts()\n"
   ]
  },
  {
   "cell_type": "code",
   "execution_count": 494,
   "id": "ed872dd7",
   "metadata": {},
   "outputs": [
    {
     "data": {
      "text/plain": [
       "ptcl_order    immediate_head_pos\n",
       "всего именно  ADP                   30\n",
       "              PRON                  10\n",
       "              ADJ                    5\n",
       "              DET                    5\n",
       "Name: immediate_head_pos, dtype: int64"
      ]
     },
     "execution_count": 494,
     "metadata": {},
     "output_type": "execute_result"
    }
   ],
   "source": [
    "combo_df[combo_df['combination']==\"всегоименно\"].groupby('ptcl_order')['immediate_head_pos'].value_counts()"
   ]
  },
  {
   "cell_type": "markdown",
   "id": "e0cb4f08",
   "metadata": {},
   "source": [
    "### 4.4. Summary on particle combinations\n",
    "\n",
    "|  particles | parts of combination | features wrt pos |\n",
    "|:--|:--|:--|\n",
    "| лишь только | лишь, только | really infrequent; combines with NOUNs and VERBs |\n",
    "| только лишь | лишь, только | mostly combines with NOUNs and VERBs |\n",
    "| именно только | именно, только | mostly combines with ADP (adpositions); used with NOUNs and VERBs |\n",
    "| только именно | именно, только | mostly combine with ADP (adpositions) |\n",
    "| только всего | только, всего | really infrequent (more information is needed) |\n",
    "| всего только | только, всего | very frequent with NUMs (numerals); quite frequent with NOUNs |\n",
    "| всего лишь | всего, лишь | very frequent with NUMs (numerals); used with NOUNs, ADJs, ADPs and VERBs |\n",
    "| всего именно | всего, именно | mostly combines with ADP (adpositions); used with PRONs (pronouns) |\n"
   ]
  },
  {
   "cell_type": "code",
   "execution_count": null,
   "id": "dd93c729",
   "metadata": {},
   "outputs": [],
   "source": []
  },
  {
   "cell_type": "markdown",
   "id": "883e0234",
   "metadata": {},
   "source": [
    "## 5. Conclusions \n",
    "\n",
    "1. It seems, combinations of particles do inherit some properties of their parts. At least, different combinations containing the same particle have a somewhat similar distribution. For instance, all combinations, containing 'именно' combine with ADP (adpositions) more readily. 'всего' clearly fosters compatibility with numerals (it is also the preferable part of speech for the corresponding standalone particle).\n",
    "\n",
    "2. Another interesting observation is that some particles seem to prefer the position within such combinations. For instance, \"всего\" occurs only as a first particle in a combination, whereas 'лишь', on the contrary, prefers the right place. \n",
    "\n"
   ]
  }
 ],
 "metadata": {
  "kernelspec": {
   "display_name": "Python 3 (ipykernel)",
   "language": "python",
   "name": "python3"
  },
  "language_info": {
   "codemirror_mode": {
    "name": "ipython",
    "version": 3
   },
   "file_extension": ".py",
   "mimetype": "text/x-python",
   "name": "python",
   "nbconvert_exporter": "python",
   "pygments_lexer": "ipython3",
   "version": "3.9.2"
  }
 },
 "nbformat": 4,
 "nbformat_minor": 5
}
